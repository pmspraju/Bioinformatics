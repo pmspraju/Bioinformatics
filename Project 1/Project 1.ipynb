{
 "cells": [
  {
   "cell_type": "markdown",
   "metadata": {},
   "source": [
    "### EECS 730 Project - 1"
   ]
  },
  {
   "cell_type": "markdown",
   "metadata": {},
   "source": [
    "#### Steps followed\n",
    "1. Human genome file is huge around 3gb. To extract the sequence by reading this file would be time consuming.\n",
    "2. Extracted the sequence for a specific chromosome in to temporary fasta file.\n",
    "3. For the given chromosome, below steps are followed to extract the protein sequence.\n",
    "4. Extracted sequences for every exon frame, excep for frame = -1. \n",
    "5. For Negative strand - \n",
    "<br>a. Read the frames, start and end positions in the reverse order.\n",
    "<br>b. Using exon start and end positions, extract the sequence.\n",
    "<br>c. Gather sequences for each exon frame in to a list and join in to a single sequence.\n",
    "<br>d. Compute the starting position of neucleotide sequence using codon end position (cdsEnd from annotation table).\n",
    "<br>e. Substring the sequence from this new start position.\n",
    "6. For Positive strand -\n",
    "<br>a. Read the frames, start and end positions in the normal order.\n",
    "<br>b. Using exon start and end positions, extract the sequence.\n",
    "<br>c. Gather sequences for each exon frame in to a list and join in to a single sequence.\n",
    "<br>d. Compute the starting position of neucleotide sequence using codon start position (cdsSt from annotation table).\n",
    "<br>e. Substring the sequence from this new start position.    \n",
    "7. Translate the above extracted squence in to protein sequence using codon table. Stop the translation once a stop codon is read. \n",
    "8. Write the protein sequence in to an output file in the below format.\n",
    "\n",
    "\">name:name2 <br>\n",
    "\"Protein sequence"
   ]
  },
  {
   "cell_type": "markdown",
   "metadata": {},
   "source": [
    "#### Import relevant packages"
   ]
  },
  {
   "cell_type": "code",
   "execution_count": null,
   "metadata": {},
   "outputs": [],
   "source": [
    "# import packages\n",
    "import os\n",
    "import Bio\n",
    "from Bio import SeqIO\n",
    "from Bio.Seq import Seq\n",
    "import pandas as pd\n",
    "import dask.dataframe as dd\n",
    "from dask.multiprocessing import get\n",
    "\n",
    "# Print versions\n",
    "print('The Biopython version is {}..'.format(Bio.__version__))"
   ]
  },
  {
   "cell_type": "markdown",
   "metadata": {},
   "source": [
    "#### Create the paths for reference files"
   ]
  },
  {
   "cell_type": "code",
   "execution_count": null,
   "metadata": {},
   "outputs": [],
   "source": [
    "# Set the local paths for data\n",
    "path = r'C:\\Users\\pmspr\\Documents\\HS\\MS\\Sem 4\\EECS 730\\Data\\Project1'\n",
    "hgfa = os.path.join(path, 'hg38.fa')\n",
    "annf = os.path.join(path,'Human_genome')\n",
    "docs = r'C:\\Users\\pmspr\\Documents\\HS\\MS\\Sem 4\\EECS 730\\Bioinformatics\\Project 1\\Docs'\n",
    "test = os.path.join(path,'Testfile.txt')\n",
    "annfile = os.path.join(path,'annotation.csv')\n",
    "output = os.path.join(path,'proteinsequence82.txt')"
   ]
  },
  {
   "cell_type": "markdown",
   "metadata": {},
   "source": [
    "#### Understand the data"
   ]
  },
  {
   "cell_type": "code",
   "execution_count": null,
   "metadata": {},
   "outputs": [],
   "source": [
    "# Get all the chromosomes from the fasta file\n",
    "chr = []\n",
    "with open(hgfa) as genome:\n",
    "    for line in genome:\n",
    "        if(line[0].strip() == '>'):\n",
    "            chr.append(line[1:].strip())\n",
    "print('Total number of chromosomes in database is {}..'.format(len(chr)))"
   ]
  },
  {
   "cell_type": "code",
   "execution_count": null,
   "metadata": {},
   "outputs": [],
   "source": [
    "# Read the annotation file in to a dataframe\n",
    "hgann = pd.read_csv(annf, delimiter = \"\\t\")\n",
    "\n",
    "#Save to an excel file for understanding purposes\n",
    "hgann.to_csv(annfile)"
   ]
  },
  {
   "cell_type": "code",
   "execution_count": null,
   "metadata": {},
   "outputs": [],
   "source": [
    "# Read the genome file and extract sequence for the desired chromosome\n",
    "count = 0\n",
    "testfa = os.path.join(path,'testfa_8.fa')\n",
    "input_seq_iterator = SeqIO.parse(hgfa, \"fasta\")\n",
    "short_seq_iterator = (record for record in input_seq_iterator if record.id == 'chr8')\n",
    "SeqIO.write(short_seq_iterator, testfa, \"fasta\")"
   ]
  },
  {
   "cell_type": "markdown",
   "metadata": {},
   "source": [
    "#### Process the sequence data"
   ]
  },
  {
   "cell_type": "markdown",
   "metadata": {},
   "source": [
    "##### This method complements the given sequence and returns the reversed version of it"
   ]
  },
  {
   "cell_type": "code",
   "execution_count": null,
   "metadata": {},
   "outputs": [],
   "source": [
    "def revcom(s):\n",
    "    comp_seq = Seq(s)\n",
    "    comp_seq = comp_seq.complement()\n",
    "    return comp_seq[::-1]"
   ]
  },
  {
   "cell_type": "markdown",
   "metadata": {},
   "source": [
    "##### This method extracts the sequecne from the desired chromosome for an exon frame"
   ]
  },
  {
   "cell_type": "code",
   "execution_count": null,
   "metadata": {},
   "outputs": [],
   "source": [
    "# Read the choromose fasta\n",
    "def getSequence(exon_st, exon_end, strand):\n",
    "    lc = 0; lst = 1; lend = 60;\n",
    "\n",
    "    exon_seq = []\n",
    "    inpst = exon_st + 1 #exon start is zero based\n",
    "    \n",
    "    #Read the sequence sequentially\n",
    "    with open(testfa) as chrom:\n",
    "        for line in chrom:\n",
    "            lc += 1\n",
    "            if (lc == 1): #Ignore the chromosome id\n",
    "                continue\n",
    "            # if the start position is found\n",
    "            if((inpst - lst) > 0 and (inpst - lst) <= 59):\n",
    "                extract_st = inpst - lst \n",
    "                if (exon_end <= lend):\n",
    "                    exon_seq.append(line[extract_st:exon_end].rstrip(\"\\n\"))\n",
    "                    break\n",
    "                else:\n",
    "                    exon_seq.append(line[extract_st:].rstrip(\"\\n\"))\n",
    "                    #print('Line start {} end {}'.format(lst,lend))\n",
    "\n",
    "            # lines between exon start and end        \n",
    "            if ((lst > exon_st) and (lend < exon_end)):\n",
    "                exon_seq.append(line.rstrip(\"\\n\"))\n",
    "                #print('Line start {} end {}'.format(lst,lend))\n",
    "\n",
    "            # Last line till exon end\n",
    "            if ((lst > exon_st) and (lend >= exon_end)):\n",
    "                extract_en = exon_end - lst + 1\n",
    "                exon_seq.append(line[:extract_en].rstrip(\"\\n\"))\n",
    "                #print('Line start {} end {}'.format(lst,lend))\n",
    "                break\n",
    "\n",
    "            lst += 60\n",
    "            lend += 60\n",
    "\n",
    "    #join the shrads of sequences in to one        \n",
    "    sequence = ''.join(exon_seq)\n",
    "    \n",
    "    # For positive strand return the normal sequence\n",
    "    if (strand == '+'):\n",
    "        return(sequence)\n",
    "    \n",
    "    # For negative strand return the complemented & Reversed sequence\n",
    "    if (strand == '-'):\n",
    "        return(str(revcom(sequence)))"
   ]
  },
  {
   "cell_type": "markdown",
   "metadata": {},
   "source": [
    "##### This method prepares indexes to be extracted and call above method for extraction."
   ]
  },
  {
   "cell_type": "code",
   "execution_count": null,
   "metadata": {},
   "outputs": [],
   "source": [
    "def chromSeq(exstlist, exenlist, exfrlist, strand, cdsSt, cdsEn):\n",
    "    \n",
    "    # For negative strands, we read exon data in the reverse order.\n",
    "    if (strand == '-'):\n",
    "        \n",
    "        #Reverses the starts, ends and frames\n",
    "        exfrlist = exfrlist[::-1]\n",
    "        exstlist = exstlist[::-1]\n",
    "        exenlist = exenlist[::-1]\n",
    "        \n",
    "        # Call the above method to extract sequence for each exon frame.\n",
    "        chromSeqlist = [(getSequence(int(j),int(k),strand))for i,j,k in zip(exfrlist,exstlist,exenlist) if (i != '-1')]\n",
    "        exf      = [(q) for p,q in zip(exfrlist, exenlist) if (p != '-1')]\n",
    "        \n",
    "        # Calculate the starting position of neucleotide sequence using the codon end postion for -ve strand.\n",
    "        cdsVal   = int(exf[0]) - cdsEn\n",
    "    \n",
    "    # For positive strands, we read exon data in the normal order. \n",
    "    if (strand == '+'):\n",
    "        \n",
    "        # call the above method to extract sequecne for each exon frame.\n",
    "        chromSeqlist = [(getSequence(int(j),int(k),strand))for i,j,k in zip(exfrlist,exstlist,exenlist) if (i != '-1')]\n",
    "        exf      = [(q) for p,q in zip(exfrlist, exstlist) if (p != '-1')]\n",
    "        \n",
    "        # Calculate the starting position of neucleotide sequence using the codon start position for +ve strand\n",
    "        cdsVal   = cdsSt - int(exf[0])\n",
    "    \n",
    "    # Return the gathered sequence list for all the exon frames, for a gene, and its codon start position\n",
    "    return chromSeqlist, cdsVal"
   ]
  },
  {
   "cell_type": "markdown",
   "metadata": {},
   "source": [
    "##### This method does following things for a give gene\n",
    " 1. Prepares the data for a gene and get the genome sequence from above method.\n",
    " 2. Extracts the neucleotide sequence by using codon start position\n",
    " 3. Translate the neucleotide sequence in to a protein sequence using codon table.\n",
    " 4. Writes the protein sequence in to an output file in fasta file format."
   ]
  },
  {
   "cell_type": "code",
   "execution_count": null,
   "metadata": {},
   "outputs": [],
   "source": [
    "def neucleotideSeq(row, outputfile):\n",
    "    try:\n",
    "        \n",
    "        # Prepare the data for a specific gene\n",
    "        stlist = row.get('exonStarts').split(\",\")[:-1]\n",
    "        enlist = row.get('exonEnds').split(\",\")[:-1]\n",
    "        frlist = row.get('exonFrames').split(\",\")[:-1]\n",
    "        strand = row.get('strand')\n",
    "        cdsSt  = row.get('cdsStart')\n",
    "        cdsEn  = row.get('cdsEnd')\n",
    "        name   = row.get('name')\n",
    "        name2  = row.get('name2')\n",
    "        \n",
    "        # Call above method to get shards of genome sequence\n",
    "        chromSeqlist, cdsVal = chromSeq(stlist, enlist, frlist, strand, int(cdsSt), int(cdsEn))\n",
    "        \n",
    "        # Join in to a single sequence.\n",
    "        chromsequence = ''.join(chromSeqlist)\n",
    "        \n",
    "        # Using codon start position, get the neucleotide sequence.\n",
    "        neucleotidesequence = chromsequence[cdsVal:]\n",
    "        #print(neucleotidesequence)\n",
    "        \n",
    "        # Translate neucleotide sequence in to protein sequence.\n",
    "        nuc_seq = Seq(neucleotidesequence)\n",
    "        protiensequence = nuc_seq.translate(to_stop=True) # Stop the translation when stop codon is found\n",
    "        #print(str(protiensequence))\n",
    "        \n",
    "        # Write the extracted protein sequence to an output file in fasta file format.\n",
    "        outputfile.write(str('>' + name + ':' + name2 + '\\n'))\n",
    "        outputfile.write(str(protiensequence + '\\n'))\n",
    "\n",
    "        return (str(protiensequence))\n",
    "    \n",
    "    except Exception as ex:\n",
    "        print(\"-----------------------------------------------------------------------\")\n",
    "        template = \"An exception of type {0} occurred. Arguments:\\n{1!r}\"\n",
    "        message = template.format(type(ex).__name__, ex.args)\n",
    "        print('Error occured for:' + str(name + ':' + name2))"
   ]
  },
  {
   "cell_type": "markdown",
   "metadata": {},
   "source": [
    "#### Main logic to call above methods for a specific chromosome"
   ]
  },
  {
   "cell_type": "code",
   "execution_count": null,
   "metadata": {},
   "outputs": [],
   "source": [
    "# Extract all the genes, in to a dataframe, for a given chromosome from the annotation file\n",
    "df = hgann.loc[(hgann['chrom'] == 'chr8') & (hgann['cdsStartStat'] == 'cmpl') & (hgann['cdsEndStat'] == 'cmpl')]\n",
    "\n",
    "# Covert the pandas dataframe in to a Dask dataframe for multiprocessing.\n",
    "df_dask = dd.from_pandas(df, npartitions=8)\n",
    "\n",
    "# Delete the output file if exists\n",
    "if os.path.exists(output):\n",
    "  os.remove(output)\n",
    "\n",
    "# Open the output file in append mode.\n",
    "outputfile = open(output,\"a\")\n",
    "\n",
    "# apply above methods for each row (gene of the given chromosome) to write the protein sequence to output file.\n",
    "result = df_dask.map_partitions(lambda df: df.apply(lambda row: neucleotideSeq(row, outputfile),axis=1)).compute()\n",
    "\n",
    "# Close the output file\n",
    "outputfile.close()"
   ]
  },
  {
   "cell_type": "markdown",
   "metadata": {},
   "source": [
    "##### Testing"
   ]
  },
  {
   "cell_type": "code",
   "execution_count": null,
   "metadata": {},
   "outputs": [],
   "source": [
    "#testsequence = Seq(\"MNHSPLKTALAYECFQDQDNSTLALPSDQKMKTGTSGRQRVQEQVMMTVKRQKSKSSQSSTLSHSNRGSMYDGLADNYNYGTTSRSSYYSKFQAGNGSWGYPIYNGTLKREPDNRRFSSYSQMENWSRHYPRGSCNTTGAGSDICFMQKIKASRSEPDLYCDPRGTLRKGTLGSKGQKTTQNRYSFYSTCSGQKAIKKCPVRPPSCASKQDPVYIPPISCNKDLSFGHSRASSKICSEDIECSGLTIPKAVQYLSSQDEKYQAIGAYYIQHTCFQDESAKQQVYQLGGICKLVDLLRSPNQNVQQAAAGALRNLVFRSTTNKLETRRQNGIREAVSLLRRTGNAEIQKQLTGLLWNLSSTDELKEELIADALPVLADRVIIPFSGWCDGNSNMSREVVDPEVFFNATGCLRKRLGMRELLALVPQRATSSRVNLSSADAGRQTMRNYSGLIDSLMAYVQNCVAASRCDDKSVENCMCVLHNLSYRLDAEVPTRYRQLEYNARNAYTEKSSTGCFSNKSDKMMNNNYDCPLPEEETNPKGSGWLYHSDAIRTYLNLMGKSKKDATLEACAGALQNLTASKGLMSSGMSQLIGLKEKGLPQIARLLQSGNSDVVRSGASLLSNMSRHPLLHRVMGNQVFPEVTRLLTSHTGNTSNSEDILSSACYTVRNLMASQPQLAKQYFSSSMLNNIINLCRSSASPKAAEAARLLLSDMWSSKELQGVLRQQGFDRNMLGTLAGANSLRNFTSRF\")\n",
    "testsequence = Seq(\"MAEKILEKLDVLDKQAEIILARRTKINRLQSEGRKTTMAIPLTFDFQLEFEEALATSASKAISKIKEDKSCSITKSKMHVSFKCEPEPRKSNFEKSNLRPFFIQTNVKNKESESTEPVEEHLKSRSIRPYLYLKDTTEMENAGPLNVLYSQHRQACRRSLGSTDFSPMFNIQSNAHKKEKDSTLFTAQIEKKPRKPLDSVGLLEGDRNKRNKRTQIP\")"
   ]
  },
  {
   "cell_type": "code",
   "execution_count": null,
   "metadata": {},
   "outputs": [],
   "source": [
    "if (protiensequence == testsequence):\n",
    "    print(\"Same sequence\")"
   ]
  }
 ],
 "metadata": {
  "kernelspec": {
   "display_name": "Python 3",
   "language": "python",
   "name": "python3"
  },
  "language_info": {
   "codemirror_mode": {
    "name": "ipython",
    "version": 3
   },
   "file_extension": ".py",
   "mimetype": "text/x-python",
   "name": "python",
   "nbconvert_exporter": "python",
   "pygments_lexer": "ipython3",
   "version": "3.6.10"
  }
 },
 "nbformat": 4,
 "nbformat_minor": 4
}
