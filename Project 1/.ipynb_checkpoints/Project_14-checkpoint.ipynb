{
 "cells": [
  {
   "cell_type": "markdown",
   "metadata": {},
   "source": [
    "### EECS 730 Project - 1"
   ]
  },
  {
   "cell_type": "markdown",
   "metadata": {},
   "source": [
    "#### Import relevant packages"
   ]
  },
  {
   "cell_type": "code",
   "execution_count": 1,
   "metadata": {},
   "outputs": [
    {
     "name": "stdout",
     "output_type": "stream",
     "text": [
      "The Biopython version is 1.78..\n"
     ]
    }
   ],
   "source": [
    "# import packages\n",
    "import os\n",
    "import Bio\n",
    "from Bio import SeqIO\n",
    "from Bio.Seq import Seq\n",
    "import pandas as pd\n",
    "\n",
    "# Print versions\n",
    "print('The Biopython version is {}..'.format(Bio.__version__))"
   ]
  },
  {
   "cell_type": "markdown",
   "metadata": {},
   "source": [
    "#### Read the Fasta file"
   ]
  },
  {
   "cell_type": "code",
   "execution_count": 2,
   "metadata": {},
   "outputs": [],
   "source": [
    "# Set the local paths for data\n",
    "path = r'C:\\Users\\pmspr\\Documents\\HS\\MS\\Sem 4\\EECS 730\\Data\\Project1'\n",
    "hgfa = os.path.join(path, 'hg38.fa')\n",
    "annf = os.path.join(path,'Human_genome')\n",
    "docs = r'C:\\Users\\pmspr\\Documents\\HS\\MS\\Sem 4\\EECS 730\\Bioinformatics\\Project 1\\Docs'\n",
    "test = os.path.join(path,'Testfile.txt')\n",
    "annfile = os.path.join(path,'annotation.csv')\n",
    "output = os.path.join(path,'proteinsequence7.txt')"
   ]
  },
  {
   "cell_type": "code",
   "execution_count": 38,
   "metadata": {},
   "outputs": [
    {
     "name": "stdout",
     "output_type": "stream",
     "text": [
      "Total number of chromosomes in database is 455..\n"
     ]
    }
   ],
   "source": [
    "# Get all the chromosomes from the fasta file\n",
    "chr = []\n",
    "with open(hgfa) as genome:\n",
    "    for line in genome:\n",
    "        if(line[0].strip() == '>'):\n",
    "            chr.append(line[1:].strip())\n",
    "print('Total number of chromosomes in database is {}..'.format(len(chr)))"
   ]
  },
  {
   "cell_type": "code",
   "execution_count": 3,
   "metadata": {},
   "outputs": [],
   "source": [
    "# Read the annotation file\n",
    "hgann = pd.read_csv(annf, delimiter = \"\\t\")\n",
    "# cord = hgann.loc[hgann['chrom'] == 'chr1',['chrom','cdsStart','cdsEnd']]\n",
    "# cord_file = os.path.join(docs,'cord.txt')\n",
    "# cord.to_csv(cord_file, header=None, index=None, sep='\\t')\n",
    "\n",
    "#hgann.to_csv(annfile)\n",
    "#chr_ann = list(hgann['chrom'].unique())\n",
    "\n",
    "# Read the genome file\n",
    "# count = 0\n",
    "# testfile = open(test,\"a\") \n",
    "# with open(hgfa) as genome:\n",
    "#     for line in genome:\n",
    "#         count += 1\n",
    "#         testfile.write(line) #.rstrip(\"\\n\")\n",
    "#         if (count == 1):\n",
    "#             break\n",
    "# testfile.close()"
   ]
  },
  {
   "cell_type": "code",
   "execution_count": 4,
   "metadata": {},
   "outputs": [
    {
     "data": {
      "text/plain": [
       "1"
      ]
     },
     "execution_count": 4,
     "metadata": {},
     "output_type": "execute_result"
    }
   ],
   "source": [
    "# Read the genome file\n",
    "count = 0\n",
    "testfa = os.path.join(path,'testfa_7.fa')\n",
    "input_seq_iterator = SeqIO.parse(hgfa, \"fasta\")\n",
    "short_seq_iterator = (record for record in input_seq_iterator if record.id == 'chr7')\n",
    "SeqIO.write(short_seq_iterator, testfa, \"fasta\")\n",
    "# testfile = open(test,\"a\") \n",
    "# for line in short_seq_iterator:\n",
    "#     testfile.write(str(line.seq).rstrip(\"\\n\"))\n",
    "# testfile.close()"
   ]
  },
  {
   "cell_type": "code",
   "execution_count": 5,
   "metadata": {},
   "outputs": [],
   "source": [
    "def revcom(s):\n",
    "    comp_seq = Seq(s)\n",
    "    comp_seq = comp_seq.complement()\n",
    "    return comp_seq[::-1]"
   ]
  },
  {
   "cell_type": "code",
   "execution_count": 6,
   "metadata": {},
   "outputs": [],
   "source": [
    "# Read the choromose fasta\n",
    "def getSequence(exon_st, exon_end, strand):\n",
    "    lc = 0; lst = 1; lend = 60;\n",
    "    #exon_st  = 67092164 #67131141(-) #67134929(-) #201330073 #201328761 #201293941 #201283505 \n",
    "    #exon_end = 67093604 #67131227(-) #67134970(-) #201332993 #201328868 #201294045 #201283904\n",
    "    exon_seq = []\n",
    "    inpst = exon_st + 1 #exon start is zero based\n",
    "    with open(testfa) as chrom:\n",
    "        for line in chrom:\n",
    "            lc += 1\n",
    "            if (lc == 1): #Ignore the chromosome id\n",
    "                continue\n",
    "            # if the start position is found\n",
    "            if((inpst - lst) > 0 and (inpst - lst) <= 59):\n",
    "                extract_st = inpst - lst \n",
    "                if (exon_end <= lend):\n",
    "                    exon_seq.append(line[extract_st:exon_end].rstrip(\"\\n\"))\n",
    "                    break\n",
    "                else:\n",
    "                    exon_seq.append(line[extract_st:].rstrip(\"\\n\"))\n",
    "                    #print('Line start {} end {}'.format(lst,lend))\n",
    "\n",
    "            # lines between exon start and end        \n",
    "            if ((lst > exon_st) and (lend < exon_end)):\n",
    "                exon_seq.append(line.rstrip(\"\\n\"))\n",
    "                #print('Line start {} end {}'.format(lst,lend))\n",
    "\n",
    "            # Last line till exon end\n",
    "            if ((lst > exon_st) and (lend >= exon_end)):\n",
    "                extract_en = exon_end - lst + 1\n",
    "                exon_seq.append(line[:extract_en].rstrip(\"\\n\"))\n",
    "                #print('Line start {} end {}'.format(lst,lend))\n",
    "                break\n",
    "\n",
    "            lst += 60\n",
    "            lend += 60\n",
    "\n",
    "    #join the shrads of sequences in to one        \n",
    "    sequence = ''.join(exon_seq)\n",
    "    #print('Exon start {} end {}'.format(exon_st,exon_end))\n",
    "    #print(sequence)\n",
    "    #print(revcom(sequence))\n",
    "    if (strand == '+'):\n",
    "        return(sequence)\n",
    "    if (strand == '-'):\n",
    "        return(str(revcom(sequence)))"
   ]
  },
  {
   "cell_type": "code",
   "execution_count": 7,
   "metadata": {},
   "outputs": [],
   "source": [
    "def chromSeq(exstlist, exenlist, exfrlist, strand, cdsSt, cdsEn):\n",
    "    if (strand == '-'):\n",
    "        exfrlist = exfrlist[::-1]\n",
    "        exstlist = exstlist[::-1]\n",
    "        exenlist = exenlist[::-1]\n",
    "        chromSeqlist = [(getSequence(int(j),int(k),strand))for i,j,k in zip(exfrlist,exstlist,exenlist) if (i != '-1')]\n",
    "        exf      = [(q) for p,q in zip(exfrlist, exenlist) if (p != '-1')]\n",
    "        cdsVal   = int(exf[0]) - cdsEn\n",
    "        \n",
    "    if (strand == '+'):\n",
    "        chromSeqlist = [(getSequence(int(j),int(k),strand))for i,j,k in zip(exfrlist,exstlist,exenlist) if (i != '-1')]\n",
    "        exf      = [(q) for p,q in zip(exfrlist, exstlist) if (p != '-1')]\n",
    "        cdsVal   = cdsSt - int(exf[0])\n",
    "        \n",
    "    return chromSeqlist, cdsVal"
   ]
  },
  {
   "cell_type": "code",
   "execution_count": 8,
   "metadata": {},
   "outputs": [],
   "source": [
    "def neucleotideSeq(row, outputfile):\n",
    "    try:\n",
    "        stlist = row.get('exonStarts').split(\",\")[:-1]\n",
    "        enlist = row.get('exonEnds').split(\",\")[:-1]\n",
    "        frlist = row.get('exonFrames').split(\",\")[:-1]\n",
    "        strand = row.get('strand')\n",
    "        cdsSt  = row.get('cdsStart')\n",
    "        cdsEn  = row.get('cdsEnd')\n",
    "        name   = row.get('name')\n",
    "        name2  = row.get('name2')\n",
    "\n",
    "        chromSeqlist, cdsVal = chromSeq(stlist, enlist, frlist, strand, int(cdsSt), int(cdsEn))\n",
    "        chromsequence = ''.join(chromSeqlist)\n",
    "        neucleotidesequence = chromsequence[cdsVal:]\n",
    "        #print(neucleotidesequence)\n",
    "\n",
    "        nuc_seq = Seq(neucleotidesequence)\n",
    "        protiensequence = nuc_seq.translate(to_stop=True)\n",
    "        #print(str(protiensequence))\n",
    "\n",
    "        outputfile.write(str('>' + name + ':' + name2 + '\\n'))\n",
    "        outputfile.write(str(protiensequence + '\\n'))\n",
    "\n",
    "        return (str(protiensequence))\n",
    "    \n",
    "    except Exception as ex:\n",
    "        print(\"-----------------------------------------------------------------------\")\n",
    "        template = \"An exception of type {0} occurred. Arguments:\\n{1!r}\"\n",
    "        message = template.format(type(ex).__name__, ex.args)\n",
    "        print('Error occured for:' + str(name + ':' + name2))"
   ]
  },
  {
   "cell_type": "code",
   "execution_count": 9,
   "metadata": {},
   "outputs": [],
   "source": [
    "def testdf(row):\n",
    "    #r1 = row.to_dict('records')[0]\n",
    "    print(row.get('exonStarts'))"
   ]
  },
  {
   "cell_type": "code",
   "execution_count": null,
   "metadata": {},
   "outputs": [],
   "source": [
    "chrlist = ['chr1','chr2']\n",
    "#df = hgann.loc[(hgann['name'] == 'NM_001276352.2') | (hgann['name'] == 'NM_000299.3')]\n",
    "df = hgann.loc[(hgann['chrom'] == 'chr7') & (hgann['cdsStartStat'] == 'cmpl') & (hgann['cdsEndStat'] == 'cmpl')]\n",
    "if os.path.exists(output):\n",
    "  os.remove(output)\n",
    "outputfile = open(output,\"a\") \n",
    "result = df.apply(lambda row: neucleotideSeq(row, outputfile),axis=1) \n",
    "outputfile.close()"
   ]
  },
  {
   "cell_type": "code",
   "execution_count": 19,
   "metadata": {},
   "outputs": [],
   "source": [
    "#testsequence = Seq(\"MNHSPLKTALAYECFQDQDNSTLALPSDQKMKTGTSGRQRVQEQVMMTVKRQKSKSSQSSTLSHSNRGSMYDGLADNYNYGTTSRSSYYSKFQAGNGSWGYPIYNGTLKREPDNRRFSSYSQMENWSRHYPRGSCNTTGAGSDICFMQKIKASRSEPDLYCDPRGTLRKGTLGSKGQKTTQNRYSFYSTCSGQKAIKKCPVRPPSCASKQDPVYIPPISCNKDLSFGHSRASSKICSEDIECSGLTIPKAVQYLSSQDEKYQAIGAYYIQHTCFQDESAKQQVYQLGGICKLVDLLRSPNQNVQQAAAGALRNLVFRSTTNKLETRRQNGIREAVSLLRRTGNAEIQKQLTGLLWNLSSTDELKEELIADALPVLADRVIIPFSGWCDGNSNMSREVVDPEVFFNATGCLRKRLGMRELLALVPQRATSSRVNLSSADAGRQTMRNYSGLIDSLMAYVQNCVAASRCDDKSVENCMCVLHNLSYRLDAEVPTRYRQLEYNARNAYTEKSSTGCFSNKSDKMMNNNYDCPLPEEETNPKGSGWLYHSDAIRTYLNLMGKSKKDATLEACAGALQNLTASKGLMSSGMSQLIGLKEKGLPQIARLLQSGNSDVVRSGASLLSNMSRHPLLHRVMGNQVFPEVTRLLTSHTGNTSNSEDILSSACYTVRNLMASQPQLAKQYFSSSMLNNIINLCRSSASPKAAEAARLLLSDMWSSKELQGVLRQQGFDRNMLGTLAGANSLRNFTSRF\")\n",
    "testsequence = Seq(\"MAEKILEKLDVLDKQAEIILARRTKINRLQSEGRKTTMAIPLTFDFQLEFEEALATSASKAISKIKEDKSCSITKSKMHVSFKCEPEPRKSNFEKSNLRPFFIQTNVKNKESESTEPVEEHLKSRSIRPYLYLKDTTEMENAGPLNVLYSQHRQACRRSLGSTDFSPMFNIQSNAHKKEKDSTLFTAQIEKKPRKPLDSVGLLEGDRNKRNKRTQIP\")"
   ]
  },
  {
   "cell_type": "code",
   "execution_count": 20,
   "metadata": {},
   "outputs": [
    {
     "name": "stdout",
     "output_type": "stream",
     "text": [
      "MAEKILEKLDVLDKQAEIILARRTKINRLQSEGRKTTMAIPLTFDFQLEFEEALATSASKAISKIKEDKSCSITKSKMHVSFKCEPEPRKSNFEKSNLRPFFIQTNVKNKESESTEPVEEHLKSRSIRPYLYLKDTTEMENAGPLNVLYSQHRQACRRSLGSTDFSPMFNIQSNAHKKEKDSTLFTAQIEKKPRKPLDSVGLLEGDRNKRNKRTQIP\n"
     ]
    }
   ],
   "source": [
    "nuc_seq = Seq(neucleotidesequence)\n",
    "protiensequence = nuc_seq.translate(to_stop=True)\n",
    "print(str(protiensequence))"
   ]
  },
  {
   "cell_type": "code",
   "execution_count": 107,
   "metadata": {},
   "outputs": [
    {
     "name": "stdout",
     "output_type": "stream",
     "text": [
      "Same sequence\n",
      "Error occured for:mad:hu\n"
     ]
    }
   ],
   "source": [
    "if (protiensequence == testsequence):\n",
    "    print(\"Same sequence\")"
   ]
  },
  {
   "cell_type": "code",
   "execution_count": null,
   "metadata": {},
   "outputs": [],
   "source": [
    "# for record in input_seq_iterator:\n",
    "#     if record.id == 'chr10':\n",
    "#         #chr10_seq = Seq(repr(record.seq))\n",
    "#         #print(record.id)\n",
    "#         #print(record.seq)\n",
    "#         SeqIO.write(record, testfa, \"fasta\")\n",
    "#row = hgann.loc[hgann['name'] == 'NM_001276352.2']  #NM_001276352.2\n",
    "    #row = row.to_dict('records')[0]\n",
    "\n",
    "for index, row in hgann.iterrows():\n",
    "    print(type(row))\n",
    "    #row = row.to_dict('records')[0]\n",
    "    break"
   ]
  }
 ],
 "metadata": {
  "kernelspec": {
   "display_name": "Python 3",
   "language": "python",
   "name": "python3"
  },
  "language_info": {
   "codemirror_mode": {
    "name": "ipython",
    "version": 3
   },
   "file_extension": ".py",
   "mimetype": "text/x-python",
   "name": "python",
   "nbconvert_exporter": "python",
   "pygments_lexer": "ipython3",
   "version": "3.6.10"
  }
 },
 "nbformat": 4,
 "nbformat_minor": 4
}
