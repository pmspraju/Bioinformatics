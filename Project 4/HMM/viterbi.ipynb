{
 "cells": [
  {
   "cell_type": "markdown",
   "metadata": {
    "colab_type": "text",
    "id": "zbEloWy0zgFn"
   },
   "source": [
    "# Viterbi\n",
    "Implementation of the Viterbi algorithm.\n",
    "\n"
   ]
  },
  {
   "cell_type": "markdown",
   "metadata": {
    "colab_type": "text",
    "id": "yoG3k9pCzk3c"
   },
   "source": [
    "## Python Imports"
   ]
  },
  {
   "cell_type": "code",
   "execution_count": 1,
   "metadata": {
    "colab": {},
    "colab_type": "code",
    "collapsed": true,
    "id": "Jk4CMIT5zSrp"
   },
   "outputs": [],
   "source": [
    "import numpy as np"
   ]
  },
  {
   "cell_type": "markdown",
   "metadata": {
    "colab_type": "text",
    "id": "A9eyQ4nWzm9_"
   },
   "source": [
    "## Simulation Main"
   ]
  },
  {
   "cell_type": "markdown",
   "metadata": {
    "colab_type": "text",
    "id": "4zmxoNo0zve9"
   },
   "source": [
    "### Parameters"
   ]
  },
  {
   "cell_type": "code",
   "execution_count": 2,
   "metadata": {
    "colab": {},
    "colab_type": "code",
    "collapsed": true,
    "id": "KaecOeW9L6T1"
   },
   "outputs": [],
   "source": [
    "def initialize(encode_sequence, states, initial_prob, transition_matrix, emission_probs):\n",
    "    \n",
    "    delta = np.zeros(shape=(states, len(encode_sequence)))\n",
    "    \n",
    "    arrows = np.ndarray(shape=(states, len(encode_sequence)), dtype=object)\n",
    "    \n",
    "    # initial conditions\n",
    "    for i in range(0, states):\n",
    "  \n",
    "        delta[i][0] = XX # Remember we work in log space \n",
    "    \n",
    "        arrows[i][0] = 0\n",
    "    \n",
    "    return delta, arrows"
   ]
  },
  {
   "cell_type": "markdown",
   "metadata": {
    "colab_type": "text",
    "id": "ZV58e3UpL6T4"
   },
   "source": [
    "## Encode sequence as integers (index values)"
   ]
  },
  {
   "cell_type": "code",
   "execution_count": 3,
   "metadata": {
    "colab": {},
    "colab_type": "code",
    "collapsed": true,
    "id": "CY55lgd9L6T5"
   },
   "outputs": [],
   "source": [
    "def encode( sequence, symbols):\n",
    "    \n",
    "    enc = [0] * len(sequence)\n",
    "    \n",
    "    for i in range(len(sequence)):\n",
    "        enc[i] = symbols.find(sequence[i])\n",
    "    \n",
    "    return(enc)"
   ]
  },
  {
   "cell_type": "markdown",
   "metadata": {
    "colab_type": "text",
    "id": "bzEzXRSX0A79"
   },
   "source": [
    "### Main Loop\n",
    " "
   ]
  },
  {
   "cell_type": "code",
   "execution_count": 15,
   "metadata": {
    "colab": {
     "base_uri": "https://localhost:8080/",
     "height": 82
    },
    "colab_type": "code",
    "id": "M5o3yT_vzSry",
    "outputId": "e7b4ff9a-afde-45bf-c260-291fbfc44915",
    "scrolled": true
   },
   "outputs": [
    {
     "name": "stdout",
     "output_type": "stream",
     "text": [
      "[[ -1.07918125  -1.87960889  -2.68003654  -3.48046418  -4.28089183\n",
      "   -5.08131947  -5.88174712  -6.68217476  -7.48260241  -8.28303005\n",
      "   -9.0834577   -9.88388534 -10.68431299 -11.48474063 -12.28516828\n",
      "  -13.08559592 -13.88602357 -14.68645121 -15.48687886 -16.04379151\n",
      "  -16.39057899 -17.19100664 -17.78312397 -18.58355161 -19.38397926\n",
      "  -20.1844069 ]\n",
      " [ -1.30103     -2.34678749  -3.39254498  -4.43830247  -5.48405996\n",
      "   -6.52981745  -7.38234947  -8.18277711  -8.98320476  -9.7836324\n",
      "  -10.58406005 -11.38448769 -11.48594533 -11.83273282 -12.17952031\n",
      "  -12.52630779 -13.57206528 -13.91885277 -14.26564026 -14.61242774\n",
      "  -15.65818523 -16.00497272 -17.05073021 -18.0964877  -18.44327519\n",
      "  -18.79006267]]\n"
     ]
    }
   ],
   "source": [
    "states = 2\n",
    "\n",
    "symbols = \"123456\"\n",
    "nsymbols = len(symbols)\n",
    "\n",
    "input_sequence = \"566611234\"\n",
    "#input_sequence = \"31245366664\"\n",
    "#input_sequence = \"34512331245366664666563266\"\n",
    "#input_sequence = \"566611111111112346666666\"\n",
    "input_encode = encode( input_sequence, symbols)\n",
    "\n",
    "# Define model - Note this is done in log space\n",
    "initial_prob = np.log10([1.0/states, 1.0/states])\n",
    "\n",
    "transition_matrix = np.log10(np.asarray([0.95, 0.05, 0.1, 0.9]).reshape(2,2))\n",
    "\n",
    "fair_prob = np.log10([1.0/6, 1.0/6, 1.0/6, 1.0/6, 1.0/6, 1.0/6]) \n",
    "loaded_prob = np.log10([1.0/10, 1.0/10, 1.0/10, 1.0/10, 1.0/10, 5.0/10])  \n",
    "emission_probs = [fair_prob, loaded_prob]\n",
    "\n",
    "delta, arrows = initialize(input_encode, states, initial_prob, transition_matrix, emission_probs)\n",
    "\n",
    "# main loop\n",
    "for i in range(1, len(input_sequence)):\n",
    "    \n",
    "    for j in range(0, states):\n",
    "        \n",
    "        max_arrow_prob = -np.inf # A very low negative number\n",
    "        max_arrow_prob_state = -1\n",
    "        \n",
    "        for k in range(0, states):\n",
    "            \n",
    "            # arrow_prob is the probability of ending in the state j from the state k\n",
    "            arrow_prob = XX\n",
    "            \n",
    "            if arrow_prob > max_arrow_prob: \n",
    "                max_arrow_prob = XX\n",
    "                max_arrow_prob_state = XX\n",
    "            \n",
    "        # store prob\n",
    "        delta[j][i] = XX + max_arrow_prob\n",
    "\n",
    "        # store arrow\n",
    "        arrows[j][i] = max_arrow_prob_state\n",
    "\n",
    "print(delta)"
   ]
  },
  {
   "cell_type": "markdown",
   "metadata": {
    "colab_type": "text",
    "id": "MTHAza-X0YQV"
   },
   "source": [
    "### Backtracking"
   ]
  },
  {
   "cell_type": "code",
   "execution_count": 16,
   "metadata": {
    "colab": {
     "base_uri": "https://localhost:8080/",
     "height": 33
    },
    "colab_type": "code",
    "id": "yqsTmlLFkiWg",
    "outputId": "cf4e04f2-d2c5-4236-aaeb-f1afd1d57f31"
   },
   "outputs": [
    {
     "name": "stdout",
     "output_type": "stream",
     "text": [
      "log(Max_path): -18.7900626717\n",
      "Seq:  34512331245366664666563266\n",
      "Path: 00000000000011111111111111\n"
     ]
    }
   ],
   "source": [
    "path = []\n",
    "\n",
    "max_state = np.argmax(delta[:, -1]) # Find the index of the max value in the last column of delta\n",
    "max_value = delta[max_state, -1] # Find the max value in the last column of delta\n",
    "\n",
    "print \"log(Max_path):\", max_value\n",
    "\n",
    "print \"Seq: \", input_sequence\n",
    "\n",
    "path.append(str(max_state))\n",
    "\n",
    "old_state = max_state\n",
    "\n",
    "for i in range(len(input_encode)-2, -1, -1):\n",
    "    \n",
    "    current_state = arrows[XX][i+1]\n",
    "    \n",
    "    path.append(str(current_state))\n",
    "\n",
    "    old_state = current_state \n",
    "    \n",
    "print \"Path:\", \"\".join(reversed(path))"
   ]
  },
  {
   "cell_type": "code",
   "execution_count": null,
   "metadata": {
    "colab": {},
    "colab_type": "code",
    "collapsed": true,
    "id": "Wf3_HhsEL6UI"
   },
   "outputs": [],
   "source": []
  }
 ],
 "metadata": {
  "colab": {
   "collapsed_sections": [],
   "name": "viterbi_v2.ipynb",
   "provenance": [],
   "version": "0.3.2"
  },
  "kernelspec": {
   "display_name": "Python 3",
   "language": "python",
   "name": "python3"
  },
  "language_info": {
   "codemirror_mode": {
    "name": "ipython",
    "version": 3
   },
   "file_extension": ".py",
   "mimetype": "text/x-python",
   "name": "python",
   "nbconvert_exporter": "python",
   "pygments_lexer": "ipython3",
   "version": "3.8.8"
  }
 },
 "nbformat": 4,
 "nbformat_minor": 1
}
