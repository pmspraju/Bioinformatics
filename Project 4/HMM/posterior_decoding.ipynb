{
 "cells": [
  {
   "cell_type": "markdown",
   "metadata": {
    "colab_type": "text",
    "id": "zbEloWy0zgFn"
   },
   "source": [
    "# Posterior Decoding\n",
    "Implementation of the Posterior Decoding algorithm.\n",
    "\n"
   ]
  },
  {
   "cell_type": "markdown",
   "metadata": {
    "colab_type": "text",
    "id": "yoG3k9pCzk3c"
   },
   "source": [
    "## Python Imports"
   ]
  },
  {
   "cell_type": "code",
   "execution_count": 1,
   "metadata": {
    "colab": {},
    "colab_type": "code",
    "collapsed": true,
    "id": "Jk4CMIT5zSrp"
   },
   "outputs": [],
   "source": [
    "import numpy as np"
   ]
  },
  {
   "cell_type": "markdown",
   "metadata": {},
   "source": [
    "## Encode sequence as integers (index values)"
   ]
  },
  {
   "cell_type": "code",
   "execution_count": 2,
   "metadata": {
    "collapsed": true
   },
   "outputs": [],
   "source": [
    "def encode( sequence, symbols):\n",
    "    \n",
    "    enc = [0] * len(sequence)\n",
    "    \n",
    "    for i in range(len(sequence)):\n",
    "        enc[i] = symbols.find(sequence[i])\n",
    "    \n",
    "    return(enc)"
   ]
  },
  {
   "cell_type": "markdown",
   "metadata": {
    "colab_type": "text",
    "id": "4zmxoNo0zve9"
   },
   "source": [
    "## Parameters"
   ]
  },
  {
   "cell_type": "code",
   "execution_count": 9,
   "metadata": {
    "colab": {},
    "colab_type": "code",
    "collapsed": true,
    "id": "pmvxr0uUk_sd"
   },
   "outputs": [],
   "source": [
    "states = 2\n",
    "\n",
    "symbols = \"123456\"\n",
    "\n",
    "#input_sequence = \"566611234\"\n",
    "input_sequence = \"31245366664\"\n",
    "#input_sequence = \"34512331245366664666563266\"\n",
    "\n",
    "input_encode = encode( input_sequence, symbols)\n",
    "\n",
    "initial_prob = [1.0/states, 1.0/states]\n",
    "\n",
    "transition_matrix = np.asarray([0.95, 0.05, 0.1, 0.9]).reshape(2,2)\n",
    "\n",
    "fair_prob = [1.0/6, 1./6, 1./6, 1./6, 1./6, 1./6]\n",
    "loaded_prob = [1./10, 1./10, 1./10, 1./10, 1./10, 5./10] \n",
    "emission_probs = [fair_prob, loaded_prob]\n",
    "\n"
   ]
  },
  {
   "cell_type": "markdown",
   "metadata": {
    "colab_type": "text",
    "id": "_qWOQUfGkJOI"
   },
   "source": [
    "## Forward Loop\n",
    "### Remember that we here do NOT work in log space"
   ]
  },
  {
   "cell_type": "code",
   "execution_count": 10,
   "metadata": {
    "colab": {},
    "colab_type": "code",
    "collapsed": true,
    "id": "fyHv6-vuzxt2"
   },
   "outputs": [],
   "source": [
    "def initialize_forward(input_encode, states, initial_prob, emission_probs):\n",
    "    \n",
    "    alpha = np.zeros(shape=(states, len(input_encode)))\n",
    "        \n",
    "    for i in range(0, states): \n",
    "        \n",
    "        alpha[i][0] = initial_prob[i]*emission_probs[i][input_encode[0]]\n",
    "        \n",
    "    return alpha"
   ]
  },
  {
   "cell_type": "code",
   "execution_count": 11,
   "metadata": {
    "colab": {
     "base_uri": "https://localhost:8080/",
     "height": 126
    },
    "colab_type": "code",
    "collapsed": false,
    "id": "2A6Rx7sukIjM",
    "outputId": "cc4ed1b3-aa15-4276-f114-eb6a3e26785e"
   },
   "outputs": [
    {
     "name": "stdout",
     "output_type": "stream",
     "text": [
      "[[  8.33333333e-02   1.40277778e-02   2.30300926e-03   3.73187114e-04\n",
      "    6.00488355e-05   9.62531004e-06   1.53959349e-06   2.45973824e-07\n",
      "    3.92725919e-08   6.26806449e-09   1.00020763e-09   1.59587314e-10\n",
      "    2.54612416e-11   4.18482056e-12   7.42261228e-13   1.55117457e-13\n",
      "    4.17862827e-14   8.17942957e-15   2.01595796e-15   6.46998166e-16\n",
      "    2.50793528e-16   5.31145855e-17   1.45468313e-17   2.86000647e-18\n",
      "    5.04154831e-19   1.04110397e-19]\n",
      " [  5.00000000e-02   4.91666667e-03   5.12638889e-04   5.76525463e-05\n",
      "    7.05466474e-06   9.35164004e-07   1.32291311e-07   1.96041854e-08\n",
      "    2.99424581e-09   4.65845082e-10   7.32663798e-11   1.15950123e-11\n",
      "    9.20743840e-12   4.77987832e-12   2.25556576e-12   1.03356112e-12\n",
      "    9.37960883e-14   4.32528968e-14   1.96682893e-14   8.90112913e-15\n",
      "    8.04336613e-16   3.68221314e-16   3.34054912e-17   3.07922836e-18\n",
      "    1.45715292e-18   6.68322687e-19]]\n"
     ]
    }
   ],
   "source": [
    "alpha = initialize_forward(input_encode, states, initial_prob, emission_probs)\n",
    "\n",
    "# main loop\n",
    "for i in range(1, len(input_encode)):\n",
    "    \n",
    "    for j in range(0, states):\n",
    "\n",
    "        _sum = 0\n",
    "        \n",
    "        for k in range(0, states):\n",
    "            \n",
    "            _sum += XX           \n",
    "         \n",
    "        # store prob\n",
    "        alpha[j][i] = XX\n",
    "\n",
    "print(alpha)"
   ]
  },
  {
   "cell_type": "markdown",
   "metadata": {
    "colab_type": "text",
    "id": "R8IztniOkK8Q"
   },
   "source": [
    "## Backward Loop"
   ]
  },
  {
   "cell_type": "code",
   "execution_count": 12,
   "metadata": {
    "colab": {},
    "colab_type": "code",
    "collapsed": false,
    "id": "TngUQKM2kTY_"
   },
   "outputs": [],
   "source": [
    "def initialize_backward(input_encode, states):\n",
    "    \n",
    "    #beta = np.zeros(shape=(states, len(input_encode), dtype=float))\n",
    "    beta = np.zeros(shape=(states, len(input_encode)))\n",
    "        \n",
    "    for i in range(0, states):\n",
    "  \n",
    "        beta[i][-1] = 1\n",
    "        \n",
    "    return beta"
   ]
  },
  {
   "cell_type": "code",
   "execution_count": 13,
   "metadata": {
    "colab": {
     "base_uri": "https://localhost:8080/",
     "height": 126
    },
    "colab_type": "code",
    "collapsed": false,
    "id": "SasPJXJYnhM1",
    "outputId": "b968d3fc-b7fb-4be0-e5d0-b85661bff52a"
   },
   "outputs": [
    {
     "name": "stdout",
     "output_type": "stream",
     "text": [
      "[[  8.06168327e-18   5.05050974e-17   3.16264653e-16   1.97886763e-15\n",
      "    1.23638218e-14   7.70457491e-14   4.77826300e-13   2.93749049e-12\n",
      "    1.77635651e-11   1.04032577e-10   5.69731168e-10   2.64357621e-09\n",
      "    6.12401814e-09   1.52734329e-08   4.47151086e-08   1.68398939e-07\n",
      "    8.14977590e-07   2.39909383e-06   9.09841630e-06   4.42697801e-05\n",
      "    2.51751058e-04   1.28812230e-03   7.50856481e-03   4.06944444e-02\n",
      "    1.83333333e-01   1.00000000e+00]\n",
      " [  2.01252289e-18   1.30085696e-17   8.59721341e-17   5.88788966e-16\n",
      "    4.25250299e-15   3.29823019e-14   2.77983670e-13   2.54472772e-12\n",
      "    2.49852034e-11   2.58348079e-10   2.76502843e-09   3.02329870e-08\n",
      "    6.69576001e-08   1.48228984e-07   3.27741627e-07   7.22077730e-07\n",
      "    7.87216411e-06   1.74048427e-05   3.83404498e-05   8.35613782e-05\n",
      "    8.81839191e-04   1.91193441e-03   1.98532407e-02   2.13055556e-01\n",
      "    4.66666667e-01   1.00000000e+00]]\n"
     ]
    }
   ],
   "source": [
    "beta = initialize_backward(input_encode, states)\n",
    "\n",
    "# main loop\n",
    "for i in range(len(input_encode)-2, -1, -1):\n",
    "    \n",
    "    for j in range(0, states):\n",
    "\n",
    "        _sum = 0\n",
    "\n",
    "        for k in range(0, states):\n",
    "            \n",
    "            _sum += emission_probs[k][input_encode[i+1]] * XX * XX\n",
    "        \n",
    "        # store prob\n",
    "        beta[j][i] = _sum\n",
    "\n",
    "print(beta)"
   ]
  },
  {
   "cell_type": "markdown",
   "metadata": {
    "colab_type": "text",
    "id": "bzEzXRSX0A79"
   },
   "source": [
    "## Posterior Loop\n",
    " "
   ]
  },
  {
   "cell_type": "code",
   "execution_count": 14,
   "metadata": {
    "colab": {
     "base_uri": "https://localhost:8080/",
     "height": 235
    },
    "colab_type": "code",
    "collapsed": false,
    "id": "M5o3yT_vzSry",
    "outputId": "e8adbd06-fb24-4be8-9dfe-4d0df12b327a",
    "scrolled": true
   },
   "outputs": [
    {
     "name": "stdout",
     "output_type": "stream",
     "text": [
      "('Log(Px):', -41.704741570600518)\n",
      "Posterior 0 3 2 -2.48490664979 -39.3594092963 0.869728334293\n",
      "Posterior 1 4 3 -4.26671578816 -37.5244574037 0.917198263539\n",
      "Posterior 2 5 4 -6.07353863763 -35.6899523008 0.94294307141\n",
      "Posterior 3 1 0 -7.89343061746 -33.856251617 0.956054208684\n",
      "Posterior 4 2 1 -9.72035240147 -32.0240017844 0.961161706386\n",
      "Posterior 5 3 2 -11.5511144668 -30.1943770049 0.960069212236\n",
      "Posterior 6 3 2 -13.3839921445 -28.3695291182 0.952390925848\n",
      "Posterior 7 1 0 -15.218040712 -26.5534654735 0.935415358244\n",
      "Posterior 8 2 1 -17.0527389676 -24.7538716608 0.90314780408\n",
      "Posterior 9 4 3 -18.8877982243 -22.9863170244 0.844193387856\n",
      "Posterior 10 5 4 -20.7230582301 -21.2858565014 0.737733108863\n",
      "Posterior 11 3 2 -22.5584299193 -19.7511332121 0.546171876421\n",
      "Posterior 12 6 5 -24.3938637567 -18.9110473965 0.20186228276\n",
      "Posterior 13 6 5 -26.1995572893 -17.9971509309 0.0827470719507\n",
      "Posterior 14 6 5 -27.9290751548 -16.9229543926 0.0429685005609\n",
      "Posterior 15 6 5 -29.4945937777 -15.5969300356 0.0338173179379\n",
      "Posterior 16 4 3 -30.8062082736 -14.0201052208 0.0440878112422\n",
      "Posterior 17 6 5 -32.4371539814 -12.9404194639 0.0254044258343\n",
      "Posterior 18 6 5 -33.8376818972 -11.6074101922 0.0237457783292\n",
      "Posterior 19 6 5 -34.9741882148 -10.0252082785 0.0370808385957\n",
      "Posterior 20 5 4 -35.9219016693 -8.28706982482 0.0817385186659\n",
      "Posterior 21 6 5 -37.4740801027 -6.65456970287 0.088574769104\n",
      "Posterior 22 3 2 -38.7691584857 -4.89171093469 0.141404903229\n",
      "Posterior 23 2 1 -40.3957077863 -3.20166369599 0.15067502531\n",
      "Posterior 24 6 5 -42.1314035282 -1.69644928942 0.11965876081\n",
      "Posterior 25 6 5 -43.7088351076 0.0 0.134782415606\n"
     ]
    }
   ],
   "source": [
    "# posterior = f * b / p_x\n",
    "\n",
    "posterior = np.zeros(shape=(len(input_encode)), dtype=float)\n",
    "\n",
    "p_state = 0\n",
    "\n",
    "p_x = 0\n",
    "for j in range(0, states):\n",
    "    p_x += XX\n",
    "\n",
    "print (\"Log(Px):\", np.log(p_x))\n",
    "\n",
    "for i in range(0, len(input_encode)):\n",
    "        \n",
    "    posterior[i] = XX # p = (f_i * b_i)/p_x\n",
    "\n",
    "    print \"Posterior\", i, input_sequence[i], input_encode[i], np.log(alpha[p_state, i]), np.log(beta[p_state, i]), posterior[i]"
   ]
  },
  {
   "cell_type": "code",
   "execution_count": null,
   "metadata": {
    "collapsed": true
   },
   "outputs": [],
   "source": []
  }
 ],
 "metadata": {
  "colab": {
   "collapsed_sections": [],
   "name": "posterior_decoding.ipynb",
   "provenance": [],
   "version": "0.3.2"
  },
  "kernelspec": {
   "display_name": "Python 2",
   "language": "python",
   "name": "python2"
  },
  "language_info": {
   "codemirror_mode": {
    "name": "ipython",
    "version": 2
   },
   "file_extension": ".py",
   "mimetype": "text/x-python",
   "name": "python",
   "nbconvert_exporter": "python",
   "pygments_lexer": "ipython2",
   "version": "2.7.11"
  }
 },
 "nbformat": 4,
 "nbformat_minor": 0
}
