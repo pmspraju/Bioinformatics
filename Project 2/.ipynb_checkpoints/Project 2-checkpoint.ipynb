{
 "cells": [
  {
   "cell_type": "markdown",
   "metadata": {},
   "source": [
    "### EECS 730 Project - 2"
   ]
  },
  {
   "cell_type": "markdown",
   "metadata": {},
   "source": [
    "#### Steps followed\n",
    "1. \n",
    "8. Write the reconstructed sequence in to an output file in the below format.\n",
    "\n",
    "\">reconstructed genome sequence <br>\n",
    "\"ouput assembled sequence"
   ]
  },
  {
   "cell_type": "markdown",
   "metadata": {},
   "source": [
    "#### Import relevant packages"
   ]
  },
  {
   "cell_type": "code",
   "execution_count": 136,
   "metadata": {},
   "outputs": [
    {
     "name": "stdout",
     "output_type": "stream",
     "text": [
      "The Biopython version is 1.78..\n"
     ]
    }
   ],
   "source": [
    "# import packages\n",
    "import os\n",
    "import Bio\n",
    "from Bio import SeqIO\n",
    "from Bio.Seq import Seq\n",
    "import pandas as pd\n",
    "import dask.dataframe as dd\n",
    "from dask.multiprocessing import get\n",
    "from pydna.common_sub_strings import terminal_overlap\n",
    "from pydna.assembly import Assembly\n",
    "from pydna.dseqrecord import Dseqrecord\n",
    "\n",
    "# Print versions\n",
    "print('The Biopython version is {}..'.format(Bio.__version__))"
   ]
  },
  {
   "cell_type": "markdown",
   "metadata": {},
   "source": [
    "#### Create the paths for reference files"
   ]
  },
  {
   "cell_type": "code",
   "execution_count": 137,
   "metadata": {},
   "outputs": [],
   "source": [
    "# Set the local paths for data\n",
    "path = r'C:\\Users\\pmspr\\Documents\\HS\\MS\\Sem 4\\EECS 730\\Bioinformatics\\Project 2\\Docs'\n",
    "reads = os.path.join(path, 'HW2_reads.fasta')\n",
    "output = os.path.join(path,'sequence_assembly.txt')"
   ]
  },
  {
   "cell_type": "markdown",
   "metadata": {},
   "source": [
    "#### Important methods"
   ]
  },
  {
   "cell_type": "code",
   "execution_count": 138,
   "metadata": {},
   "outputs": [],
   "source": [
    "# This method derive the shortest path for the given list of sequences\n",
    "def getcontig(seqlist,seq):\n",
    "    dseq = tuple(Dseqrecord(seq[s]) for i, s in enumerate(seqlist) if i < 9)\n",
    "    x = Assembly(dseq, limit=49)\n",
    "    contigs = x.assemble_linear()\n",
    "    if len(contigs) > 0:\n",
    "        return contigs[0].seq.watson"
   ]
  },
  {
   "cell_type": "code",
   "execution_count": 139,
   "metadata": {},
   "outputs": [],
   "source": [
    "# This method verifies if there is an overlap of certain threshold between sequences.\n",
    "# Threshold = 50bp according to project instructions\n",
    "def compare_overlap(s1, s2):\n",
    "    overlaps = terminal_overlap(s1,s2, limit=49)\n",
    "    if len(overlaps) > 0:\n",
    "        return 'y'\n",
    "    else:\n",
    "        return 'n'\n",
    "    "
   ]
  },
  {
   "cell_type": "code",
   "execution_count": 140,
   "metadata": {},
   "outputs": [],
   "source": [
    "# This method derive the contigs for sequences with overlap\n",
    "def contigs(seq):\n",
    "    lr = [i for i in range(0,len(seq))]  \n",
    "    contigList = []\n",
    "    while (len(lr) != 0):\n",
    "        i1 = min(lr)\n",
    "        c1 = [i for i in lr if compare_overlap(seq[i1],seq[i]) == 'y' ]\n",
    "        c1 = sorted(c1)\n",
    "        contigList.append(getcontig(c1,seq))\n",
    "        #print(c1)\n",
    "        lr = list(set(lr) - set(c1))\n",
    "    return contigList"
   ]
  },
  {
   "cell_type": "markdown",
   "metadata": {},
   "source": [
    "#### Main logic"
   ]
  },
  {
   "cell_type": "code",
   "execution_count": 157,
   "metadata": {},
   "outputs": [
    {
     "name": "stdout",
     "output_type": "stream",
     "text": [
      "Total number of reads in file is 127..\n",
      "\n",
      "Assembled DNA sequence..\n",
      "CCCTGTCTACCACCCAGACTATCGTGTAGTTCTGCCTGTTCCGTAAGTCGTAGATTGCTATCCTGGAAATCATCGTGCTCAGGATGTTAATATCTAGCGTCCTACGTTACGAGTTGGCAGATGACAGATCGTAGTCGTGGTAAGGGGCATTGCCGCTTGTGACCCAGTTCGCGTGCCTAGCAGCACTCCAAAATAAAGTTTACAGTACCGTCCGGACGGCAGAACTGTCCTCTAGATCGTCCTAACGCCTTAGTCGAATCCCTTGCCGTCGGTAACCACTGAATAAACTACGCGTTAGGACTTTGTCAGACGCGAGGAGCTAGTAGGAGGACAAATCAGCAAACGACCCTGAATTGAACAATGTGAGTAGGTATAACTGTGCTTGTATGACGTCCCGTTCGGTCGTTCTTGAGCAACTTCGGCCAGTGCATGCTATGGGGGAAGCTATGAATTCTATGTTGGAACTTGGGCCCGGCATAGTAGTTTATGCCTGTGGACCGGTGTTGAGTGTATCTGCTGGACCCCGGCGCGTTCACCTGTCCACATCTAATCCAAACATATACTATTGGTATTTGAGCGTCTCACAACGACATCGACTGGTATTAGACACCTACCAGGAACAACCAATCGGTTTAGATGACGCACAGCCACGGACAGCCTCTGTTGCTTGAGCAGTCCCAAAGTGCGTACCTGAAGCCTGCCAAAACGTAGCCTAGGCAAATGCCCGTCGTCTTGCTCATAACTCCTTGGGACTGGCGTATCCATAAATAATCCATTCGATTCCTTGAGAGTTCCACATTAGAGACTTATCCATCGAGGATCAGGCCAAATCCGCGAGACCCGACCGAGATCAAGTATAACTCATTACGCGTGGTGTGGTTGCGGCCCACCCTTATCGTGAGCCAGTTGTTGGATATACCCCTGGGCGGGCCTAAAGCTCCGCAACGAACACCCCCTCCGCTGTGTCTGGTCGATTCTGGCTAGCCGCTCCGTTTGGGTAACAAATCACAGGACGCCATGGATTGCCTCTTAAGTCTGGCCAGTCGGGATGTCCTGCAGCCCGGGTCACTTCTCTGGTACCCTCTTGGCATAACTTCTTCAAATTTAGAGTTTAATGTTTCGGGTGAGCTGCATACTGTGATGGGGGGTACTTGGCGTCAAGCGCCACCTTTAGTAGTACTCGAAAAGGCTCATGGTAAACCGTGCATACGTTCTAAGGTTCCCCGCTATGGACTGGACCGACCACGAAGTGGTGGATCATGAGACGTACCTGCTTAAGTCGGTGATTGACGTCACACCTCTCGCGCCCATAGCGAAGCTTATGTACTAAACCCCTTAGTGTTAAGTCCTTACATCTGTTATGTCTATTGGAGGACAAGGGGTGTACGCTGCACAGAGCCTTCTTCAGGTAGGAAGAATACAAAATGCCTTTTTCGACACGTATAAGCCGACGAGAGTAACACTGATATCAGCGAAAAATGGGCCCGGGTGTAGAGCGATGTATTTGCTGTTTTATGTGTCCAGGCAACTCCTAACGTCGTTAAGAAGCACCTTTCTTAGATCCACCGACCCGCGCTGCCTACAATGAGCACTTGTGCTTCTCATATTTAATACTTCGCATACCTAGAAACCACAAGTAGCTGACCGACTAACGCAACGGCTTCGATGATAAAGTATTGACCTTTCGCTTTTTTGACATACTTCCCCGTCACCTGCGATCGGGCCCGGTGTGTTCATATACGATGCCTCTCCACTTGTCGACAAGCCAGTCACTATGTAAGCGAACCACCATAATTGATCGACGATAAAGTGACGCGTCCATGCTCATGTATTTATATGACGGCCAAAAATGGAGATATTATAGTCGACCAAGTATTGGCGTCGAACAACCGCGCCCTGCAGAATCCCAAGATTCGCCAGGCGGCGAACGAGGCCTACGGGCAACGGGTTATACTTAGCTGCAACCAACGCCTTTCCACATGTTTGAGAA\n"
     ]
    }
   ],
   "source": [
    "# Gather all the sequences from th input fasta file\n",
    "seq = []\n",
    "with open(reads) as genome:\n",
    "    for line in genome:\n",
    "        if(line[0].strip() != '>'):\n",
    "            seq.append(line.strip())\n",
    "print('Total number of reads in file is {}..'.format(len(seq)))\n",
    "seqlist = seq\n",
    "\n",
    "# Derive assembled DNA sequence from the individual contigs\n",
    "while (len(seq) > 1): \n",
    "    contigList = contigs(seq)\n",
    "    seq = contigList\n",
    "\n",
    "print()\n",
    "print('Assembled DNA sequence..')\n",
    "print(seq[0])\n",
    "\n",
    "# Write the output to a fasta file\n",
    "# Delete the output file if exists\n",
    "if os.path.exists(output):\n",
    "  os.remove(output)\n",
    "\n",
    "# Open the output file in append mode.\n",
    "outputfile = open(output,\"a\")\n",
    "\n",
    "# Write the extracted protein sequence to an output file in fasta file format.\n",
    "outputfile.write(str('>' + 'reconstructed genomic sequence' + '\\n'))\n",
    "outputfile.write(str(seq[0] + '\\n'))\n",
    "\n",
    "# Close the output file\n",
    "outputfile.close()"
   ]
  },
  {
   "cell_type": "markdown",
   "metadata": {},
   "source": [
    "#### Testing"
   ]
  },
  {
   "cell_type": "code",
   "execution_count": 156,
   "metadata": {},
   "outputs": [
    {
     "name": "stdout",
     "output_type": "stream",
     "text": [
      "Number of reads that are NOT part of assembled sequence 0..\n",
      "Number of reads that are repeated in assembled sequence 0..\n"
     ]
    }
   ],
   "source": [
    "# Check if all the reads are part of assembled sequence\n",
    "from pydna.common_sub_strings import common_sub_strings\n",
    "\n",
    "# Check if each read is a substring of the assembled sequence\n",
    "outliers = [i for i in range(0, len(seqlist)) if len(common_sub_strings(seqlist[i],seq[0], limit=99)) == 0]\n",
    "print('Number of reads that are NOT part of assembled sequence {}..'.format(len(outliers)))\n",
    "\n",
    "# Check if each read is a repeated substring of the assembled sequence\n",
    "outliers = [i for i in range(0, len(seqlist)) if len(common_sub_strings(seqlist[i],seq[0], limit=99)) > 1]\n",
    "print('Number of reads that are repeated in assembled sequence {}..'.format(len(outliers)))"
   ]
  },
  {
   "cell_type": "code",
   "execution_count": null,
   "metadata": {},
   "outputs": [],
   "source": []
  }
 ],
 "metadata": {
  "kernelspec": {
   "display_name": "Python 3",
   "language": "python",
   "name": "python3"
  },
  "language_info": {
   "codemirror_mode": {
    "name": "ipython",
    "version": 3
   },
   "file_extension": ".py",
   "mimetype": "text/x-python",
   "name": "python",
   "nbconvert_exporter": "python",
   "pygments_lexer": "ipython3",
   "version": "3.8.8"
  }
 },
 "nbformat": 4,
 "nbformat_minor": 4
}
