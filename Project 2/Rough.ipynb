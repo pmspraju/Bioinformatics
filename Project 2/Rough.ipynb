{
 "cells": [
  {
   "cell_type": "markdown",
   "metadata": {},
   "source": [
    "### EECS 730 Project - 2"
   ]
  },
  {
   "cell_type": "markdown",
   "metadata": {},
   "source": [
    "#### Steps followed\n",
    "1. Human genome file is huge around 3gb. To extract the sequence by reading this file would be time consuming.\n",
    "2. Extracted the sequence for a specific chromosome in to temporary fasta file.\n",
    "3. For the given chromosome, below steps are followed to extract the protein sequence.\n",
    "4. Extracted sequences for every exon frame, excep for frame = -1. \n",
    "5. For Negative strand - \n",
    "<br>a. Read the frames, start and end positions in the reverse order.\n",
    "<br>b. Using exon start and end positions, extract the sequence.\n",
    "<br>c. Gather sequences for each exon frame in to a list and join in to a single sequence.\n",
    "<br>d. Compute the starting position of neucleotide sequence using codon end position (cdsEnd from annotation table).\n",
    "<br>e. Substring the sequence from this new start position.\n",
    "6. For Positive strand -\n",
    "<br>a. Read the frames, start and end positions in the normal order.\n",
    "<br>b. Using exon start and end positions, extract the sequence.\n",
    "<br>c. Gather sequences for each exon frame in to a list and join in to a single sequence.\n",
    "<br>d. Compute the starting position of neucleotide sequence using codon start position (cdsSt from annotation table).\n",
    "<br>e. Substring the sequence from this new start position.    \n",
    "7. Translate the above extracted squence in to protein sequence using codon table. Stop the translation once a stop codon is read. \n",
    "8. Write the protein sequence in to an output file in the below format.\n",
    "\n",
    "\">name:name2 <br>\n",
    "\"Protein sequence"
   ]
  },
  {
   "cell_type": "markdown",
   "metadata": {},
   "source": [
    "#### Import relevant packages"
   ]
  },
  {
   "cell_type": "code",
   "execution_count": 97,
   "metadata": {},
   "outputs": [
    {
     "name": "stdout",
     "output_type": "stream",
     "text": [
      "The Biopython version is 1.78..\n"
     ]
    }
   ],
   "source": [
    "# import packages\n",
    "import os\n",
    "import Bio\n",
    "from Bio import SeqIO\n",
    "from Bio.Seq import Seq\n",
    "import pandas as pd\n",
    "import dask.dataframe as dd\n",
    "from dask.multiprocessing import get\n",
    "from pydna.common_sub_strings import terminal_overlap\n",
    "from pydna.assembly import Assembly\n",
    "from pydna.dseqrecord import Dseqrecord\n",
    "\n",
    "# Print versions\n",
    "print('The Biopython version is {}..'.format(Bio.__version__))"
   ]
  },
  {
   "cell_type": "markdown",
   "metadata": {},
   "source": [
    "#### Create the paths for reference files"
   ]
  },
  {
   "cell_type": "code",
   "execution_count": 98,
   "metadata": {},
   "outputs": [],
   "source": [
    "# Set the local paths for data\n",
    "path = r'C:\\Users\\pmspr\\Documents\\HS\\MS\\Sem 4\\EECS 730\\Bioinformatics\\Project 2\\Docs'\n",
    "reads = os.path.join(path, 'HW2_reads.fasta')\n",
    "output = os.path.join(path,'sequence_assembly.txt')"
   ]
  },
  {
   "cell_type": "markdown",
   "metadata": {},
   "source": [
    "#### Important methods"
   ]
  },
  {
   "cell_type": "code",
   "execution_count": 133,
   "metadata": {},
   "outputs": [],
   "source": [
    "# This method derive the shortest path for the given list of sequences\n",
    "def getcontig(seqlist,seq):\n",
    "    dseq = tuple(Dseqrecord(seq[s]) for i, s in enumerate(seqlist) if i < 9)\n",
    "    x = Assembly(dseq, limit=49)\n",
    "    contigs = x.assemble_linear()\n",
    "    if len(contigs) > 0:\n",
    "        return contigs[0].seq.watson"
   ]
  },
  {
   "cell_type": "code",
   "execution_count": 134,
   "metadata": {},
   "outputs": [],
   "source": [
    "# This method verifies if there is an overlap of certain threshold between sequences.\n",
    "# Threshold = 50bp according to project instructions\n",
    "def compare_overlap(s1, s2):\n",
    "    overlaps = terminal_overlap(s1,s2, limit=49)\n",
    "    if len(overlaps) > 0:\n",
    "        return 'y'\n",
    "    else:\n",
    "        return 'n'\n",
    "    "
   ]
  },
  {
   "cell_type": "code",
   "execution_count": 135,
   "metadata": {},
   "outputs": [],
   "source": [
    "# This method derive the contigs for sequences with overlap\n",
    "def contigs(seq):\n",
    "    lr = [i for i in range(0,len(seq))]  \n",
    "    contigList = []\n",
    "    while (len(lr) != 0):\n",
    "        i1 = min(lr)\n",
    "        c1 = [i for i in lr if compare_overlap(seq[i1],seq[i]) == 'y' ]\n",
    "        c1 = sorted(c1)\n",
    "        contigList.append(getcontig(c1,seq))\n",
    "        #print(c1)\n",
    "        lr = list(set(lr) - set(c1))\n",
    "    return contigList"
   ]
  },
  {
   "cell_type": "markdown",
   "metadata": {},
   "source": [
    "#### Main logic"
   ]
  },
  {
   "cell_type": "code",
   "execution_count": 132,
   "metadata": {},
   "outputs": [
    {
     "name": "stdout",
     "output_type": "stream",
     "text": [
      "Total number of reads in file is 127..\n",
      "CCCTGTCTACCACCCAGACTATCGTGTAGTTCTGCCTGTTCCGTAAGTCGTAGATTGCTATCCTGGAAATCATCGTGCTCAGGATGTTAATATCTAGCGTCCTACGTTACGAGTTGGCAGATGACAGATCGTAGTCGTGGTAAGGGGCATTGCCGCTTGTGACCCAGTTCGCGTGCCTAGCAGCACTCCAAAATAAAGTTTACAGTACCGTCCGGACGGCAGAACTGTCCTCTAGATCGTCCTAACGCCTTAGTCGAATCCCTTGCCGTCGGTAACCACTGAATAAACTACGCGTTAGGACTTTGTCAGACGCGAGGAGCTAGTAGGAGGACAAATCAGCAAACGACCCTGAATTGAACAATGTGAGTAGGTATAACTGTGCTTGTATGACGTCCCGTTCGGTCGTTCTTGAGCAACTTCGGCCAGTGCATGCTATGGGGGAAGCTATGAATTCTATGTTGGAACTTGGGCCCGGCATAGTAGTTTATGCCTGTGGACCGGTGTTGAGTGTATCTGCTGGACCCCGGCGCGTTCACCTGTCCACATCTAATCCAAACATATACTATTGGTATTTGAGCGTCTCACAACGACATCGACTGGTATTAGACACCTACCAGGAACAACCAATCGGTTTAGATGACGCACAGCCACGGACAGCCTCTGTTGCTTGAGCAGTCCCAAAGTGCGTACCTGAAGCCTGCCAAAACGTAGCCTAGGCAAATGCCCGTCGTCTTGCTCATAACTCCTTGGGACTGGCGTATCCATAAATAATCCATTCGATTCCTTGAGAGTTCCACATTAGAGACTTATCCATCGAGGATCAGGCCAAATCCGCGAGACCCGACCGAGATCAAGTATAACTCATTACGCGTGGTGTGGTTGCGGCCCACCCTTATCGTGAGCCAGTTGTTGGATATACCCCTGGGCGGGCCTAAAGCTCCGCAACGAACACCCCCTCCGCTGTGTCTGGTCGATTCTGGCTAGCCGCTCCGTTTGGGTAACAAATCACAGGACGCCATGGATTGCCTCTTAAGTCTGGCCAGTCGGGATGTCCTGCAGCCCGGGTCACTTCTCTGGTACCCTCTTGGCATAACTTCTTCAAATTTAGAGTTTAATGTTTCGGGTGAGCTGCATACTGTGATGGGGGGTACTTGGCGTCAAGCGCCACCTTTAGTAGTACTCGAAAAGGCTCATGGTAAACCGTGCATACGTTCTAAGGTTCCCCGCTATGGACTGGACCGACCACGAAGTGGTGGATCATGAGACGTACCTGCTTAAGTCGGTGATTGACGTCACACCTCTCGCGCCCATAGCGAAGCTTATGTACTAAACCCCTTAGTGTTAAGTCCTTACATCTGTTATGTCTATTGGAGGACAAGGGGTGTACGCTGCACAGAGCCTTCTTCAGGTAGGAAGAATACAAAATGCCTTTTTCGACACGTATAAGCCGACGAGAGTAACACTGATATCAGCGAAAAATGGGCCCGGGTGTAGAGCGATGTATTTGCTGTTTTATGTGTCCAGGCAACTCCTAACGTCGTTAAGAAGCACCTTTCTTAGATCCACCGACCCGCGCTGCCTACAATGAGCACTTGTGCTTCTCATATTTAATACTTCGCATACCTAGAAACCACAAGTAGCTGACCGACTAACGCAACGGCTTCGATGATAAAGTATTGACCTTTCGCTTTTTTGACATACTTCCCCGTCACCTGCGATCGGGCCCGGTGTGTTCATATACGATGCCTCTCCACTTGTCGACAAGCCAGTCACTATGTAAGCGAACCACCATAATTGATCGACGATAAAGTGACGCGTCCATGCTCATGTATTTATATGACGGCCAAAAATGGAGATATTATAGTCGACCAAGTATTGGCGTCGAACAACCGCGCCCTGCAGAATCCCAAGATTCGCCAGGCGGCGAACGAGGCCTACGGGCAACGGGTTATACTTAGCTGCAACCAACGCCTTTCCACATGTTTGAGAA\n"
     ]
    }
   ],
   "source": [
    "# Gather all the sequences from th input fasta file\n",
    "seq = []\n",
    "with open(reads) as genome:\n",
    "    for line in genome:\n",
    "        if(line[0].strip() != '>'):\n",
    "            seq.append(line.strip())\n",
    "print('Total number of reads in file is {}..'.format(len(seq)))\n",
    "\n",
    "# Derive assembled DNA sequence from the individual contigs\n",
    "while (len(seq) > 1): \n",
    "    contigList = contigs(seq)\n",
    "    seq = contigList\n",
    "\n",
    "\n",
    "print(seq[0])"
   ]
  },
  {
   "cell_type": "code",
   "execution_count": 73,
   "metadata": {},
   "outputs": [],
   "source": [
    "from pydna.common_sub_strings import terminal_overlap\n",
    "s1 = seq[0]; s2 = seq[4]\n",
    "overlaps = terminal_overlap(s1,s2, limit=49)\n",
    "if len(overlaps) > 0:\n",
    "    ind = overlaps[0]\n",
    "    s1_st = ind[0]; s2_st = ind[1]; o_len = ind[2]\n",
    "    print(s1[s1_st: s1_st + o_len])\n",
    "    print(s2[s2_st: s2_st + o_len])"
   ]
  },
  {
   "cell_type": "code",
   "execution_count": 74,
   "metadata": {},
   "outputs": [
    {
     "name": "stdout",
     "output_type": "stream",
     "text": [
      "0\n"
     ]
    },
    {
     "ename": "IndexError",
     "evalue": "list index out of range",
     "output_type": "error",
     "traceback": [
      "\u001b[1;31m---------------------------------------------------------------------------\u001b[0m",
      "\u001b[1;31mIndexError\u001b[0m                                Traceback (most recent call last)",
      "\u001b[1;32m<ipython-input-74-ad1328eddb58>\u001b[0m in \u001b[0;36m<module>\u001b[1;34m\u001b[0m\n\u001b[0;32m      7\u001b[0m \u001b[0mcontigs\u001b[0m \u001b[1;33m=\u001b[0m \u001b[0mx\u001b[0m\u001b[1;33m.\u001b[0m\u001b[0massemble_linear\u001b[0m\u001b[1;33m(\u001b[0m\u001b[1;33m)\u001b[0m\u001b[1;33m\u001b[0m\u001b[1;33m\u001b[0m\u001b[0m\n\u001b[0;32m      8\u001b[0m \u001b[0mprint\u001b[0m\u001b[1;33m(\u001b[0m\u001b[0mlen\u001b[0m\u001b[1;33m(\u001b[0m\u001b[0mcontigs\u001b[0m\u001b[1;33m)\u001b[0m\u001b[1;33m)\u001b[0m\u001b[1;33m\u001b[0m\u001b[1;33m\u001b[0m\u001b[0m\n\u001b[1;32m----> 9\u001b[1;33m \u001b[0mprint\u001b[0m\u001b[1;33m(\u001b[0m\u001b[0mcontigs\u001b[0m\u001b[1;33m[\u001b[0m\u001b[1;36m0\u001b[0m\u001b[1;33m]\u001b[0m\u001b[1;33m.\u001b[0m\u001b[0mseq\u001b[0m\u001b[1;33m.\u001b[0m\u001b[0mwatson\u001b[0m\u001b[1;33m)\u001b[0m\u001b[1;31m#detailed_figure()\u001b[0m\u001b[1;33m\u001b[0m\u001b[1;33m\u001b[0m\u001b[0m\n\u001b[0m\u001b[0;32m     10\u001b[0m \u001b[1;31m#contigs[0].detailed_figure()\u001b[0m\u001b[1;33m\u001b[0m\u001b[1;33m\u001b[0m\u001b[1;33m\u001b[0m\u001b[0m\n",
      "\u001b[1;31mIndexError\u001b[0m: list index out of range"
     ]
    }
   ],
   "source": [
    "from pydna.assembly import Assembly\n",
    "from pydna.dseqrecord import Dseqrecord\n",
    "dseq = tuple(Dseqrecord(s) for i, s in enumerate(seq) if i < 4)\n",
    "s1 = Dseqrecord(seq[0]); s2 = Dseqrecord(seq[4])\n",
    "x = Assembly((s1,s2), limit=49)\n",
    "#x = Assembly(dseq, limit=49)\n",
    "contigs = x.assemble_linear()\n",
    "print(len(contigs))\n",
    "print(contigs[0].seq.watson)#detailed_figure()\n",
    "#contigs[0].detailed_figure()"
   ]
  },
  {
   "cell_type": "code",
   "execution_count": 49,
   "metadata": {},
   "outputs": [
    {
     "ename": "ValueError",
     "evalue": "sequence has unexpected format",
     "output_type": "error",
     "traceback": [
      "\u001b[1;31m---------------------------------------------------------------------------\u001b[0m",
      "\u001b[1;31mValueError\u001b[0m                                Traceback (most recent call last)",
      "\u001b[1;32m<ipython-input-49-522886afab44>\u001b[0m in \u001b[0;36m<module>\u001b[1;34m\u001b[0m\n\u001b[0;32m      2\u001b[0m \u001b[0maligner\u001b[0m \u001b[1;33m=\u001b[0m \u001b[0mAlign\u001b[0m\u001b[1;33m.\u001b[0m\u001b[0mPairwiseAligner\u001b[0m\u001b[1;33m(\u001b[0m\u001b[1;33m)\u001b[0m\u001b[1;33m\u001b[0m\u001b[1;33m\u001b[0m\u001b[0m\n\u001b[0;32m      3\u001b[0m \u001b[0maligner\u001b[0m\u001b[1;33m.\u001b[0m\u001b[0mmode\u001b[0m \u001b[1;33m=\u001b[0m \u001b[1;34m'global'\u001b[0m\u001b[1;33m\u001b[0m\u001b[1;33m\u001b[0m\u001b[0m\n\u001b[1;32m----> 4\u001b[1;33m \u001b[0mscore\u001b[0m \u001b[1;33m=\u001b[0m \u001b[0maligner\u001b[0m\u001b[1;33m.\u001b[0m\u001b[0mscore\u001b[0m\u001b[1;33m(\u001b[0m\u001b[0ms1\u001b[0m\u001b[1;33m,\u001b[0m \u001b[0ms2\u001b[0m\u001b[1;33m)\u001b[0m\u001b[1;33m\u001b[0m\u001b[1;33m\u001b[0m\u001b[0m\n\u001b[0m\u001b[0;32m      5\u001b[0m \u001b[0malignments\u001b[0m \u001b[1;33m=\u001b[0m \u001b[0maligner\u001b[0m\u001b[1;33m.\u001b[0m\u001b[0malign\u001b[0m\u001b[1;33m(\u001b[0m\u001b[0ms1\u001b[0m\u001b[1;33m,\u001b[0m \u001b[0ms2\u001b[0m\u001b[1;33m)\u001b[0m\u001b[1;33m\u001b[0m\u001b[1;33m\u001b[0m\u001b[0m\n\u001b[0;32m      6\u001b[0m \u001b[0mprint\u001b[0m\u001b[1;33m(\u001b[0m\u001b[0mscore\u001b[0m\u001b[1;33m)\u001b[0m\u001b[1;33m\u001b[0m\u001b[1;33m\u001b[0m\u001b[0m\n",
      "\u001b[1;32mC:\\ProgramData\\Anaconda2\\envs\\P37\\lib\\site-packages\\Bio\\Align\\__init__.py\u001b[0m in \u001b[0;36mscore\u001b[1;34m(self, seqA, seqB)\u001b[0m\n\u001b[0;32m   1600\u001b[0m         \u001b[1;32mif\u001b[0m \u001b[0misinstance\u001b[0m\u001b[1;33m(\u001b[0m\u001b[0mseqB\u001b[0m\u001b[1;33m,\u001b[0m \u001b[0mSeq\u001b[0m\u001b[1;33m)\u001b[0m\u001b[1;33m:\u001b[0m\u001b[1;33m\u001b[0m\u001b[1;33m\u001b[0m\u001b[0m\n\u001b[0;32m   1601\u001b[0m             \u001b[0mseqB\u001b[0m \u001b[1;33m=\u001b[0m \u001b[0mstr\u001b[0m\u001b[1;33m(\u001b[0m\u001b[0mseqB\u001b[0m\u001b[1;33m)\u001b[0m\u001b[1;33m\u001b[0m\u001b[1;33m\u001b[0m\u001b[0m\n\u001b[1;32m-> 1602\u001b[1;33m         \u001b[1;32mreturn\u001b[0m \u001b[0m_aligners\u001b[0m\u001b[1;33m.\u001b[0m\u001b[0mPairwiseAligner\u001b[0m\u001b[1;33m.\u001b[0m\u001b[0mscore\u001b[0m\u001b[1;33m(\u001b[0m\u001b[0mself\u001b[0m\u001b[1;33m,\u001b[0m \u001b[0mseqA\u001b[0m\u001b[1;33m,\u001b[0m \u001b[0mseqB\u001b[0m\u001b[1;33m)\u001b[0m\u001b[1;33m\u001b[0m\u001b[1;33m\u001b[0m\u001b[0m\n\u001b[0m\u001b[0;32m   1603\u001b[0m \u001b[1;33m\u001b[0m\u001b[0m\n\u001b[0;32m   1604\u001b[0m \u001b[1;33m\u001b[0m\u001b[0m\n",
      "\u001b[1;31mValueError\u001b[0m: sequence has unexpected format"
     ]
    }
   ],
   "source": [
    "from Bio import Align\n",
    "aligner = Align.PairwiseAligner()\n",
    "aligner.mode = 'global'\n",
    "score = aligner.score(s1, s2)\n",
    "alignments = aligner.align(s1, s2)\n",
    "print(score)\n",
    "cnt = 0\n",
    "print(len(alignments))\n",
    "print(alignments[8383287])\n",
    "# for al in sorted(alignments):\n",
    "#     print(al)\n",
    "#     if (al.score == score):\n",
    "#         cnt += 1\n",
    "# print(cnt)        "
   ]
  },
  {
   "cell_type": "code",
   "execution_count": 1,
   "metadata": {},
   "outputs": [],
   "source": [
    "def score(sequence1,sequence2,offset):\n",
    "    start_of_overlap = max(0-offset,0)\n",
    "    end_of_overlap = min([len(sequence2)-offset, len(sequence2), len(sequence1)-offset])\n",
    "    total_score = 0\n",
    "    for position in range(start_of_overlap, end_of_overlap):\n",
    "        if sequence2[position] == sequence1[position+offset]:\n",
    "            total_score = total_score + 1\n",
    "    return total_score"
   ]
  },
  {
   "cell_type": "code",
   "execution_count": 2,
   "metadata": {},
   "outputs": [],
   "source": [
    "def find_best_offset(sequence1,sequence2):\n",
    "    lowest_offset = 1-len(sequence2)\n",
    "    highest_offset = len(sequence1)\n",
    "    all_offsets = []\n",
    "    for offset in range(lowest_offset,highest_offset):\n",
    "        # add the 4-tuple for this offset\n",
    "        all_offsets.append((score(sequence1,sequence2,offset),offset,sequence2,sequence1))\n",
    "    return max(all_offsets)"
   ]
  },
  {
   "cell_type": "code",
   "execution_count": 3,
   "metadata": {},
   "outputs": [],
   "source": [
    "def find_best_match(sequence,others):\n",
    "    all_matches = []\n",
    "    for sequence2 in others:\n",
    "        if sequence2 != sequence:\n",
    "            all_matches.append(find_best_offset(sequence,sequence2))\n",
    "    return max(all_matches)"
   ]
  },
  {
   "cell_type": "code",
   "execution_count": 4,
   "metadata": {},
   "outputs": [],
   "source": [
    "def consensus(score,offset,sequence1,sequence2):\n",
    "    sequence2_left_overhang = sequence2[0:max(0,offset)]\n",
    "    sequence2_right_overhang = sequence2[len(sequence1)+offset:]\n",
    "    return sequence2_left_overhang + sequence1 + sequence2_right_overhang"
   ]
  },
  {
   "cell_type": "code",
   "execution_count": 5,
   "metadata": {},
   "outputs": [],
   "source": [
    "def assemble(sequence, others):\n",
    "    # remember, best_matching_other is a 4-tuple\n",
    "    best_matching_other = find_best_match(sequence, others)\n",
    "    # the * expands the elements of the tuple so we can use them as arguments to consensus()\n",
    "    consensus_sequence = consensus(*best_matching_other)\n",
    "    if len(others) == 1:\n",
    "        return consensus_sequence\n",
    "    else:\n",
    "        # get the second element of the best_matching_other tuple, which is the sequence\n",
    "        best_matching_sequence = best_matching_other[2]\n",
    "        others.remove(best_matching_sequence)\n",
    "        return assemble(consensus_sequence, others)"
   ]
  },
  {
   "cell_type": "code",
   "execution_count": 16,
   "metadata": {},
   "outputs": [
    {
     "name": "stdout",
     "output_type": "stream",
     "text": [
      "TGTCGACAAGCCAGTCACTATGTAAGCGAACCACCATAATTGATCGACGATAAAGTGACGCGTCCATGCTCATGTATTTATATGACGGCCAAAAATGGAGATATTATAGTCGACCAAGTATTGGCGTCGAACAACCGCGCCCTGCAGAATCCCAAGATTCGCCAGGCGGCGAACGAGGCCTACGGGCAACGGGTTATACTTAGCTGCAACCAACGCCTTTCCACATGTTTGAGAACCACCATAATTGATCGACGATAAAGTGACGCGTCCATGCTCATGTATTTATATGATCACCTGCGATCGGGCCCGGTGTGTTCATATACGATGCCTCTCCACTTGTCGACAAGCAAAATAAAGTTTACAGTACCGTCCGGACGGCAGAACTGTCCTCTAGATCGTCCTAACGCCTTAGTCGAATCCCTTGCCGTCGGTAACCACTGAATAAACTACGCGTTAGGACTTTGTCAGACGCGAGGAGCTAGTAGGAGGACAAATCAGCAAACGACCCTGAATTGAACAATGTGAGTAGGTATAACTGTGCTTGTATGACGTCCCGTTCGGTCGTTCTTGAGCAACTTCGGCCAGTGCATGCTATGGGGGAAGCTATGAATTCTATGTTGGAACTTGGGCCCGGCATAGTAGTTTATGCCTGTGGACCGGTGTTGAGTGTATCTGCTGGACCCCGGCGCGTTCACCTGTCCACATCTAATCCAAACATATACTATTGGTATTTGAGCGTCTCACAACGACATCGACTGGTATTAGACACCTACCAGGAACAACCAATCGGTTTAGATGACGCACAGCCACGGACAGCCTCTGTTGCTTGAGCAGTCCCAAAGTGCGTACCTGAAGCCTGCCAAAACGTAGCCTAGGCAAATGCCCGTCGTCTTGCTCATAACTCCTTGGGACTGGCGTATCCATAAATAATCCATTCGATTCCTTGAGAGTTCCACATTAGAGACTTATCCATCGAGGATCAGGCCAAATCCGCGAGACCCGACCGAGATCAAGTATAACTCATTACGCGTGGTGTGGTTGCGGCCCACCCTTATCGTGAGCCAGTTGTTGGATATACCCCTGGGCGGGCCTAAAGCTCCGCAACGAACACCCCCTCCGCTGTGTCTGGTCGATTCTGGCTAGCCGCTCCGTTTGGGTAACAAATCACAGGACGCCATGGATTGCCTCTTAAGTCTGGCCAGTCGGGATGTCCTGCAGCCCGGGTCACTTCTCTGGTACCCTCTTGGCATAACTTCTTCAAATTTAGAGTTTAATGTTTCGGGTGAGCTGCATACTGTGATGGGGGGTACTTGGCGTCAAGCGCCACCTTTAGTAGTACTCGAAAAGGCTCATGGTAAACCGTGCATACGTTCTAAGGTTCCCCGCTATGGACTGGACCGACCACGAAGTGGTGGATCATGAGACGTACCTGCTTAAGTCGGTGATTGACGTCACACCTCTCGCGCCCATAGCGAAGCTTATGTACTAAACCCCTTAGTGTTAAGTCCTTACATCTGTTATGTCTATTGGAGGACAAGGGGTGTACGCTGCACAGAGCCTTCTTCAGGTAGGAAGAATACAAAATGCCTTTTTCGACACGTATAAGCCGACGAGAGTAACACTGATATCAGCGAAAAATGGGCCCGGGTGTAGAGCGATGTATTTGCTGTTTTATGTGTCCAGGCAACTCCTAACGTCGTTAAGAAGCACCTTTCTTAGATCCACCGACCCGCGCTGCCTACAATGAGCACTTGTGCTTCTCATATTTAATACTTCGCATACCTAGAAACCACAAGTAGCTGACCGACTAACGCAACGGCTTCGATGATAAAGTTGGCAGATGACAGATCGTAGTCGTGGTAAGGGGCATTGCCGCTTGT\n"
     ]
    }
   ],
   "source": [
    "contig = assemble(seq[0],seq[1:])\n",
    "print(contig)"
   ]
  },
  {
   "cell_type": "code",
   "execution_count": null,
   "metadata": {},
   "outputs": [],
   "source": []
  }
 ],
 "metadata": {
  "kernelspec": {
   "display_name": "Python 3",
   "language": "python",
   "name": "python3"
  },
  "language_info": {
   "codemirror_mode": {
    "name": "ipython",
    "version": 3
   },
   "file_extension": ".py",
   "mimetype": "text/x-python",
   "name": "python",
   "nbconvert_exporter": "python",
   "pygments_lexer": "ipython3",
   "version": "3.8.8"
  }
 },
 "nbformat": 4,
 "nbformat_minor": 4
}
