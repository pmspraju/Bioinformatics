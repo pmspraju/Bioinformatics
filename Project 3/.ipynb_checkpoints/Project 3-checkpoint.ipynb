{
 "cells": [
  {
   "cell_type": "markdown",
   "metadata": {},
   "source": [
    "### EECS 730 Project - 3 - without affine gap"
   ]
  },
  {
   "cell_type": "markdown",
   "metadata": {},
   "source": [
    "#### Steps followed\n",
    "1. We have two input fasta files, file1, fil2, having the input neucleotide sequences.\n",
    "2. We read the sequencs from the two files in to a list and perfrom below steps.\n",
    "3. We use dynamic programming method to determine the global alignment of the two sequences.\n",
    "4. Determine the substitution and traceback matrices using two input sequences.\n",
    "5. Determine the alignment and score by tracking back from the last entry to the first in substitution matrix. To trace back, we use trackback matrix as reference.\n",
    "6. Calculate the score while determing the alignment and print the matrices, alignment and score to the console"
   ]
  },
  {
   "cell_type": "markdown",
   "metadata": {},
   "source": [
    "#### Import relevant packages"
   ]
  },
  {
   "cell_type": "code",
   "execution_count": 96,
   "metadata": {},
   "outputs": [
    {
     "name": "stdout",
     "output_type": "stream",
     "text": [
      "The Biopython version is 1.78..\n"
     ]
    }
   ],
   "source": [
    "# import packages\n",
    "import os\n",
    "import Bio\n",
    "from Bio import SeqIO\n",
    "from Bio.Seq import Seq\n",
    "from Bio import Align\n",
    "import numpy as np\n",
    "#import pandas as pd\n",
    "#import dask.dataframe as dd\n",
    "#from dask.multiprocessing import get\n",
    "#from pydna.common_sub_strings import terminal_overlap\n",
    "#from pydna.assembly import Assembly\n",
    "#from pydna.dseqrecord import Dseqrecord\n",
    "\n",
    "# Print versions\n",
    "print('The Biopython version is {}..'.format(Bio.__version__))"
   ]
  },
  {
   "cell_type": "markdown",
   "metadata": {},
   "source": [
    "#### Create the paths for reference files"
   ]
  },
  {
   "cell_type": "code",
   "execution_count": 97,
   "metadata": {},
   "outputs": [
    {
     "name": "stdout",
     "output_type": "stream",
     "text": [
      "Sequence 1 - AGCGAGGC\n",
      "Sequence 2 - ACAGGC\n"
     ]
    }
   ],
   "source": [
    "# Set the local paths for data\n",
    "path = r'C:\\Users\\pmspr\\Documents\\HS\\MS\\Sem 4\\EECS 730\\Bioinformatics\\Project 3\\Docs'\n",
    "f1 = os.path.join(path, 'file1.fasta')\n",
    "f2 = os.path.join(path, 'file2.fasta')\n",
    "\n",
    "# Read file1.fasta\n",
    "with open(f1) as fl1:\n",
    "    for line in fl1:\n",
    "        if(line[0].strip() != '>'):\n",
    "            seq.append(line.strip())\n",
    "\n",
    "# Read file2.fasta\n",
    "with open(f2) as fl2:\n",
    "    for line in fl2:\n",
    "        if(line[0].strip() != '>'):\n",
    "            seq.append(line.strip())\n",
    "\n",
    "print('Sequence 1 - {}'.format(seq[0]))\n",
    "print('Sequence 2 - {}'.format(seq[1]))"
   ]
  },
  {
   "cell_type": "markdown",
   "metadata": {},
   "source": [
    "#### Main Logic"
   ]
  },
  {
   "cell_type": "code",
   "execution_count": 98,
   "metadata": {},
   "outputs": [
    {
     "name": "stdout",
     "output_type": "stream",
     "text": [
      "Substitution Matrix:\n",
      "[[  0  -3  -6  -9 -12 -15 -18 -21 -24]\n",
      " [ -3   1  -2  -5  -8 -11 -14 -17 -20]\n",
      " [ -6  -2  -1  -1  -4  -7 -10 -13 -16]\n",
      " [ -9  -5  -4  -3  -3  -3  -6  -9 -12]\n",
      " [-12  -8  -4  -6  -2  -5  -2  -5  -8]\n",
      " [-15 -11  -7  -6  -5  -4  -4  -1  -4]\n",
      " [-18 -14 -10  -6  -8  -7  -6  -4   0]]\n",
      "\n",
      "Trace back Matrix:\n",
      "[['x' 'l' 'l' 'l' 'l' 'l' 'l' 'l' 'l']\n",
      " ['u' 'd' 'l' 'l' 'l' 'd' 'l' 'l' 'l']\n",
      " ['u' 'u' 'd' 'd' 'l' 'l' 'l' 'l' 'd']\n",
      " ['u' 'd' 'd' 'd' 'd' 'd' 'l' 'l' 'l']\n",
      " ['u' 'u' 'd' 'd' 'd' 'd' 'd' 'd' 'l']\n",
      " ['u' 'u' 'd' 'd' 'd' 'd' 'd' 'd' 'l']\n",
      " ['u' 'u' 'u' 'd' 'd' 'd' 'd' 'u' 'd']]\n",
      "\n",
      "Global Alignment without Affine gap with score = 0.0:\n",
      "AGCGAGGC\n",
      "| | ||||\n",
      "A-C-AGGC\n"
     ]
    }
   ],
   "source": [
    "# Determine the lengths.\n",
    "ls0 = len(seq[0]); ncols = ls0 + 1\n",
    "ls1 = len(seq[1]); nrows = ls1 + 1\n",
    "\n",
    "# Create numpy arrays for each input sequence\n",
    "s0_arr = np.array(['*' for i in range(0, ncols)], dtype=np.object)\n",
    "s0_arr[1:] = [seq[0][i] for i in range(0, ls0)]\n",
    "#print(s0_arr)\n",
    "\n",
    "s1_arr = np.array(['*' for i in range(0, nrows)], dtype=np.object)\n",
    "s1_arr[1:] = [seq[1][i] for i in range(0, ls1)]\n",
    "#print(s1_arr)\n",
    "\n",
    "# Set the scoring parameters\n",
    "match_score = 1.0\n",
    "mismatch_score = -2.0\n",
    "gap_score = -3\n",
    "\n",
    "# Initialize the matrices with default values\n",
    "sub_arr = np.zeros(shape=(nrows,ncols),dtype=np.int64)\n",
    "sub_arr[0,1:] = np.linspace(gap_score, gap_score*ls0, ls0,dtype=np.int64)\n",
    "sub_arr[1:,0] = np.linspace(gap_score, gap_score*ls1, ls1,dtype=np.int64)\n",
    "trace_arr = np.array([['x' for i in range(0,ncols)]for j in range(0,nrows)], dtype=np.object)\n",
    "trace_arr[0,1:] = np.array(['l' for i in range(0,ls0)],dtype=np.object)\n",
    "trace_arr[1:,0] = np.array(['u' for i in range(0,ls1)],dtype=np.object)\n",
    "\n",
    "# Traverse the matrices and using Needleman algorithm, fill the values\n",
    "# substitution matrix(i,j) = max(i-1,j-1 & i,j-1 & i-1,j) \n",
    "# traceback matrix(i,j) = argmax(i-1,j-1 & i,j-1 & i-1,j)\n",
    "neighbors = np.array([0,0,0], dtype=np.int64)\n",
    "for i in range(1,nrows):\n",
    "    for j in range(1,ncols):\n",
    "        if(s1_arr[i] == s0_arr[j]):\n",
    "            neighbors[0] = sub_arr[i-1,j-1] + match_score\n",
    "        if(s1_arr[i] != s0_arr[j]):\n",
    "            neighbors[0] = sub_arr[i-1,j-1] + mismatch_score\n",
    "        neighbors[1] = sub_arr[i,j-1] + gap_score\n",
    "        neighbors[2] = sub_arr[i-1,j] + gap_score\n",
    "        sub_arr[i,j] = np.amax(neighbors)\n",
    "        if(np.argmax(neighbors) == 0):\n",
    "            trace_arr[i,j] = 'd'\n",
    "        if(np.argmax(neighbors) == 1):\n",
    "            trace_arr[i,j] = 'l'\n",
    "        if(np.argmax(neighbors) == 2):\n",
    "            trace_arr[i,j] = 'u'\n",
    "\n",
    "print('Substitution Matrix:')\n",
    "print(sub_arr)\n",
    "print()\n",
    "print('Trace back Matrix:')\n",
    "print(trace_arr)\n",
    "\n",
    "# Determine the alignment using traceback matrix\n",
    "# Deter mine the score using scoring parameters\n",
    "i = trace_arr.shape[0] - 1\n",
    "j = trace_arr.shape[1] - 1\n",
    "a0 = []; a1 = []; a2 = [];\n",
    "score = 0\n",
    "while(trace_arr[i,j] != 'x'):\n",
    "    if(trace_arr[i,j] == 'd'):\n",
    "        a0.append(s0_arr[j])\n",
    "        a1.append(s1_arr[i])\n",
    "        a2.append('|')\n",
    "        score = score + match_score\n",
    "        i = i-1;j=j-1;\n",
    "    if(trace_arr[i,j] == 'l'):\n",
    "        a0.append(s0_arr[j])\n",
    "        a1.append('-')\n",
    "        a2.append(' ')\n",
    "        score = score + gap_score\n",
    "        i=i;j=j-1;\n",
    "    if(trace_arr[i,j] == 'u'):\n",
    "        a0.append('-')\n",
    "        a1.append(s1_arr[i])\n",
    "        a2.append(' ')\n",
    "        score = score + gap_score\n",
    "        i=i-1;j=j;\n",
    "    #print(i,j)\n",
    "as0 = ''.join(a0[::-1]); as1 = ''.join(a1[::-1]); as2 = ''.join(a2[::-1])\n",
    "\n",
    "# Pring the alignment to console\n",
    "print()\n",
    "print('Global Alignment without Affine gap with score = {}:'.format(score))\n",
    "print(as0)\n",
    "print(as2)\n",
    "print(as1)"
   ]
  },
  {
   "cell_type": "markdown",
   "metadata": {},
   "source": [
    "#### Testing"
   ]
  },
  {
   "cell_type": "code",
   "execution_count": 99,
   "metadata": {},
   "outputs": [
    {
     "name": "stdout",
     "output_type": "stream",
     "text": [
      "None\n",
      "Below Alignment has a score:0.0\n",
      "AGCGAGGC\n",
      "|-|-||||\n",
      "A-C-AGGC\n",
      "\n"
     ]
    }
   ],
   "source": [
    "# Using biopython\n",
    "# Sequence alignment without affine gap\n",
    "from Bio.Align import substitution_matrices\n",
    "aligner_noaffine = Align.PairwiseAligner()\n",
    "aligner_noaffine.match_score = 1.0\n",
    "aligner_noaffine.mismatch_score = -2.0\n",
    "aligner_noaffine.gap_score = -3\n",
    "alignments = aligner_noaffine.align(seq[0], seq[1])\n",
    "print(aligner_noaffine.substitution_matrix)\n",
    "for al in alignments:\n",
    "    print('Below Alignment has a score:{}'.format(al.score))\n",
    "    print(al)"
   ]
  }
 ],
 "metadata": {
  "kernelspec": {
   "display_name": "Python 3",
   "language": "python",
   "name": "python3"
  },
  "language_info": {
   "codemirror_mode": {
    "name": "ipython",
    "version": 3
   },
   "file_extension": ".py",
   "mimetype": "text/x-python",
   "name": "python",
   "nbconvert_exporter": "python",
   "pygments_lexer": "ipython3",
   "version": "3.8.8"
  }
 },
 "nbformat": 4,
 "nbformat_minor": 4
}
