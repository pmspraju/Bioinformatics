{
 "cells": [
  {
   "cell_type": "markdown",
   "metadata": {},
   "source": [
    "### EECS 730 Project - 3 - with affine gap penalty"
   ]
  },
  {
   "cell_type": "markdown",
   "metadata": {},
   "source": [
    "#### Steps followed\n",
    "1. We have two input fasta files, file1, fil2, having the input neucleotide sequences.\n",
    "2. We read the sequencs from the two files in to a list and perfrom below steps.\n",
    "3. Determine the intermediate matrices that represent gaps in the upper layer, left layer and diagonal layer.\n",
    "4. Determine substitution matrix using above three layer matrices.\n",
    "5. Determine the traceback matrix from the substitution matrix and perform the alignment of two input neucleotide sequences.\n",
    "6. Calculate the scores and print the output to console."
   ]
  },
  {
   "cell_type": "markdown",
   "metadata": {},
   "source": [
    "#### Instructions to run\n",
    "1. Install the biopython. This is used for testing in last cell.\n",
    "2. If we wish not to test, please comment packages relevant to biopython\n",
    "3. Provide the path where input files are placed in the variable 'path'\n",
    "4. Change the file names accordingly in the variables 'f1', 'f2'. Check the sequences that were printed to console\n",
    "5. Once we see the sequences, please run each cell to get the alignment and score."
   ]
  },
  {
   "cell_type": "markdown",
   "metadata": {},
   "source": [
    "#### Import relevant packages"
   ]
  },
  {
   "cell_type": "code",
   "execution_count": 1,
   "metadata": {},
   "outputs": [
    {
     "name": "stdout",
     "output_type": "stream",
     "text": [
      "The Biopython version is 1.78..\n"
     ]
    }
   ],
   "source": [
    "# import packages\n",
    "import os\n",
    "import Bio\n",
    "from Bio import SeqIO\n",
    "from Bio.Seq import Seq\n",
    "from Bio import Align\n",
    "import numpy as np\n",
    "#import pandas as pd\n",
    "#import dask.dataframe as dd\n",
    "#from dask.multiprocessing import get\n",
    "#from pydna.common_sub_strings import terminal_overlap\n",
    "#from pydna.assembly import Assembly\n",
    "#from pydna.dseqrecord import Dseqrecord\n",
    "\n",
    "# Print versions\n",
    "print('The Biopython version is {}..'.format(Bio.__version__))"
   ]
  },
  {
   "cell_type": "markdown",
   "metadata": {},
   "source": [
    "#### Create the paths for reference files"
   ]
  },
  {
   "cell_type": "code",
   "execution_count": 2,
   "metadata": {},
   "outputs": [
    {
     "name": "stdout",
     "output_type": "stream",
     "text": [
      "Sequence 1 - AGCGAGGC\n",
      "Sequence 2 - ACAGGC\n"
     ]
    }
   ],
   "source": [
    "# Set the local paths for data\n",
    "path = r'C:\\Users\\pmspr\\Documents\\HS\\MS\\Sem 4\\EECS 730\\Bioinformatics\\Project 3\\Docs'\n",
    "f1 = os.path.join(path, 'file1.fasta') # Change the file name accordingly.\n",
    "f2 = os.path.join(path, 'file2.fasta') # Change the file name accordingly.\n",
    "seq = []\n",
    "#Read file1.fasta\n",
    "with open(f1) as fl1:\n",
    "    for line in fl1:\n",
    "        if(line[0].strip() != '>'):\n",
    "            seq.append(line.strip())\n",
    "\n",
    "#Read file2.fasta\n",
    "with open(f2) as fl2:\n",
    "    for line in fl2:\n",
    "        if(line[0].strip() != '>'):\n",
    "            seq.append(line.strip())\n",
    "\n",
    "print('Sequence 1 - {}'.format(seq[0]))\n",
    "print('Sequence 2 - {}'.format(seq[1]))"
   ]
  },
  {
   "cell_type": "markdown",
   "metadata": {},
   "source": [
    "#### Main Logic"
   ]
  },
  {
   "cell_type": "code",
   "execution_count": 3,
   "metadata": {},
   "outputs": [],
   "source": [
    "# Determine the lengths\n",
    "ls0 = len(seq[0]); ncols = ls0 + 1\n",
    "ls1 = len(seq[1]); nrows = ls1 + 1\n",
    "\n",
    "# Create numpy arrays from the strings\n",
    "s0_arr = np.array(['*' for i in range(0, ncols)], dtype=np.object)\n",
    "s0_arr[1:] = [seq[0][i] for i in range(0, ls0)]\n",
    "#print(s0_arr)\n",
    "\n",
    "s1_arr = np.array(['*' for i in range(0, nrows)], dtype=np.object)\n",
    "s1_arr[1:] = [seq[1][i] for i in range(0, ls1)]\n",
    "#print(s1_arr)\n",
    "\n",
    "# Define the scoring parameters\n",
    "match_score = 1.0\n",
    "mismatch_score = -2.0\n",
    "gap_open = -5\n",
    "gap_extn = -1\n",
    "\n",
    "# Define the upper layer matrix and initialize\n",
    "# Initialize first column = gap_open + row_index * gap_extn\n",
    "upp_arr = np.zeros(shape=(nrows,ncols),dtype=np.int64)\n",
    "upp_arr[0,0] = -1000\n",
    "upp_arr[1:,0] = np.array([gap_open + i*gap_extn for i in range(1,nrows)],dtype=np.int64)\n",
    "#print(upp_arr)\n",
    "\n",
    "# Define the left layer matrix and initialize\n",
    "# Initialize first row = gap_open + col_index * gap_extn\n",
    "lft_arr = np.zeros(shape=(nrows,ncols),dtype=np.int64)\n",
    "lft_arr[0,0] = -1000\n",
    "lft_arr[0,1:] = np.array([gap_open + i*gap_extn for i in range(1,ncols)],dtype=np.int64)\n",
    "#print(lft_arr)\n",
    "\n",
    "# Define the diagonal layer matrix and initialize\n",
    "# Initialize first column, row = 0\n",
    "dig_arr = np.zeros(shape=(nrows,ncols),dtype=np.int64)\n",
    "dig_arr[0,0] = -1000\n",
    "#print(dig_arr)\n",
    "\n",
    "# Define the diagonal layer matrix and initialize\n",
    "# Initialize first column = gap_open + row_index * gap_extn\n",
    "# Initialize first row = gap_open + col_index * gap_extn\n",
    "sub_arr = np.zeros(shape=(nrows,ncols),dtype=np.int64)\n",
    "sub_arr[0,1:] = np.array([gap_open + i*gap_extn for i in range(1,ncols)],dtype=np.int64)\n",
    "sub_arr[1:,0] = np.array([gap_open + i*gap_extn for i in range(1,nrows)],dtype=np.int64)\n",
    "#print(sub_arr)\n",
    "\n",
    "\n",
    "# Define trace back matrix\n",
    "# Initialize first column = 'u'\n",
    "# Initialize first row = 'l'\n",
    "trace_arr = np.array([['x' for i in range(0,ncols)]for j in range(0,nrows)], dtype=np.object)\n",
    "trace_arr[0,1:] = np.array(['l' for i in range(0,ls0)],dtype=np.object)\n",
    "trace_arr[1:,0] = np.array(['u' for i in range(0,ls1)],dtype=np.object)"
   ]
  },
  {
   "cell_type": "code",
   "execution_count": 4,
   "metadata": {},
   "outputs": [
    {
     "name": "stdout",
     "output_type": "stream",
     "text": [
      "Upper layer Matrix:\n",
      "[[-1000     0     0     0     0     0     0     0     0]\n",
      " [   -6    -7    -5    -6    -7    -8    -9   -10   -11]\n",
      " [   -7    -8    -9    -7    -8    -9   -10   -11   -12]\n",
      " [   -8    -9   -10   -11    -9   -10   -11   -12   -13]\n",
      " [   -9   -10   -11   -11   -12    -8    -9   -10   -11]\n",
      " [  -10   -11   -12   -12   -13   -14   -10   -11   -11]\n",
      " [  -11   -12   -13   -14   -11   -12   -13   -12   -13]]\n",
      "\n",
      "Left layer Matrix:\n",
      "[[-1000    -6    -7    -8    -9   -10   -11   -12   -13]\n",
      " [    0    -7    -8    -9   -10   -11   -12   -13   -14]\n",
      " [    0    -5    -9   -10   -11   -12   -13   -14   -15]\n",
      " [    0    -6    -7   -10   -12   -13   -14   -15   -15]\n",
      " [    0    -7    -8    -9   -12   -13   -15   -16   -16]\n",
      " [    0    -8    -9   -10    -8   -14   -12   -16   -17]\n",
      " [    0    -9   -10   -11    -9   -10   -13   -11   -17]]\n",
      "\n",
      "Diagonal layer Matrix:\n",
      "[[-1000     0     0     0     0     0     0     0     0]\n",
      " [    0     1    -8    -9   -10    -8   -12   -13   -14]\n",
      " [    0    -8    -1    -4    -8    -9   -10   -11    -9]\n",
      " [    0    -6    -7    -3    -6    -7   -11   -12   -13]\n",
      " [    0   -10    -5    -9    -2    -8    -6   -10   -14]\n",
      " [    0   -11    -6    -7    -8    -4    -7    -5   -12]\n",
      " [    0   -12   -10    -5    -9   -10    -6    -9    -4]]\n",
      "\n",
      "Substitution Matrix:\n",
      "[[  0  -6  -7  -8  -9 -10 -11 -12 -13]\n",
      " [ -6   1  -5  -6  -7  -8  -9 -10 -11]\n",
      " [ -7  -5  -1  -4  -8  -9 -10 -11  -9]\n",
      " [ -8  -6  -7  -3  -6  -7 -11 -12 -13]\n",
      " [ -9  -7  -5  -9  -2  -8  -6 -10 -11]\n",
      " [-10  -8  -6  -7  -8  -4  -7  -5 -11]\n",
      " [-11  -9 -10  -5  -9 -10  -6  -9  -4]]\n",
      "\n",
      "Trace back Matrix:\n",
      "[['x' 'l' 'l' 'l' 'l' 'l' 'l' 'l' 'l']\n",
      " ['u' 'd' 'l' 'l' 'l' 'd' 'l' 'l' 'l']\n",
      " ['u' 'u' 'd' 'd' 'd' 'd' 'd' 'd' 'd']\n",
      " ['u' 'd' 'd' 'd' 'd' 'd' 'd' 'd' 'd']\n",
      " ['u' 'u' 'd' 'd' 'd' 'd' 'd' 'd' 'l']\n",
      " ['u' 'u' 'd' 'd' 'd' 'd' 'd' 'd' 'l']\n",
      " ['u' 'u' 'd' 'd' 'd' 'd' 'd' 'd' 'd']]\n"
     ]
    }
   ],
   "source": [
    "# Fill the intermediate arrays\n",
    "neighbors = np.array([0,0], dtype=np.int64)\n",
    "fneigh = np.array([0,0,0], dtype=np.int64)\n",
    "for i in range(1,nrows):\n",
    "    for j in range(1,ncols):\n",
    "        \n",
    "        # Fill upper matrix\n",
    "        neighbors = [0,0]\n",
    "        neighbors[0] = sub_arr[i,j-1] + gap_open + gap_extn\n",
    "        neighbors[1] = upp_arr[i,j-1] + gap_extn\n",
    "        upp_arr[i,j] = np.amax(neighbors)\n",
    "        \n",
    "        # Fill left matrix\n",
    "        neighbors = [0,0]\n",
    "        neighbors[0] = sub_arr[i-1,j] + gap_open + gap_extn\n",
    "        neighbors[1] = lft_arr[i-1,j] + gap_extn\n",
    "        lft_arr[i,j] = np.amax(neighbors)\n",
    "        \n",
    "        # fill diagonal matrix\n",
    "        if(s1_arr[i] == s0_arr[j]):\n",
    "            dig_arr[i,j] = sub_arr[i-1,j-1] + match_score\n",
    "        if(s1_arr[i] != s0_arr[j]):\n",
    "            dig_arr[i,j] = sub_arr[i-1,j-1] + mismatch_score\n",
    "        \n",
    "        # fill traceback matrix\n",
    "        fneigh = [0,0,0]\n",
    "        fneigh = np.array([dig_arr[i,j],upp_arr[i,j],lft_arr[i,j]],dtype=np.int64)\n",
    "        sub_arr[i,j] = np.amax(fneigh)\n",
    "        if(np.argmax(fneigh) == 0):\n",
    "            trace_arr[i,j] = 'd'\n",
    "        if(np.argmax(fneigh) == 1):\n",
    "            trace_arr[i,j] = 'l'\n",
    "        if(np.argmax(fneigh) == 2):\n",
    "            trace_arr[i,j] = 'u'\n",
    "\n",
    "print('Upper layer Matrix:')\n",
    "print(upp_arr)\n",
    "print()\n",
    "\n",
    "print('Left layer Matrix:')\n",
    "print(lft_arr)\n",
    "print()\n",
    "\n",
    "print('Diagonal layer Matrix:')\n",
    "print(dig_arr)\n",
    "print()\n",
    "\n",
    "print('Substitution Matrix:')\n",
    "print(sub_arr)\n",
    "print()\n",
    "\n",
    "print('Trace back Matrix:')\n",
    "print(trace_arr)"
   ]
  },
  {
   "cell_type": "code",
   "execution_count": 5,
   "metadata": {},
   "outputs": [
    {
     "name": "stdout",
     "output_type": "stream",
     "text": [
      "\n",
      "Global Alignment without Affine gap with score = -10.0:\n",
      "AGCGAGGC\n",
      "|  *||||\n",
      "A--CAGGC\n"
     ]
    }
   ],
   "source": [
    "# Determine the alignment using traceback matrix\n",
    "i = trace_arr.shape[0] - 1\n",
    "j = trace_arr.shape[1] - 1\n",
    "a0 = []; a1 = []; a2 = [];\n",
    "score = 0;ugap_ind = 0; lgap_ind = 0;\n",
    "\n",
    "# Traverse from right bottom to the top left to create the alignment\n",
    "while(trace_arr[i,j] != 'x'):\n",
    "    if(trace_arr[i,j] == 'd'):\n",
    "        a0.append(s0_arr[j])\n",
    "        a1.append(s1_arr[i])\n",
    "        if(s0_arr[j] == s1_arr[i]):\n",
    "            a2.append('|')\n",
    "            score = score + match_score\n",
    "            \n",
    "        if(s0_arr[j] != s1_arr[i]):\n",
    "            a2.append('*')\n",
    "            score = score + mismatch_score\n",
    "        i = i-1;j=j-1;\n",
    "    if(trace_arr[i,j] == 'l'):\n",
    "        a0.append(s0_arr[j])\n",
    "        a1.append('-')\n",
    "        a2.append(' ')\n",
    "        lgap_ind = lgap_ind + 1\n",
    "        score = score + gap_open + lgap_ind*gap_extn\n",
    "        i=i;j=j-1;\n",
    "    if(trace_arr[i,j] == 'u'):\n",
    "        a0.append('-')\n",
    "        a1.append(s1_arr[i])\n",
    "        a2.append(' ')\n",
    "        ugap_ind = ugap_ind + 1\n",
    "        score = score + gap_open + ugap_ind*gap_extn\n",
    "        i=i-1;j=j;\n",
    "    \n",
    "as0 = ''.join(a0[::-1]); as1 = ''.join(a1[::-1]); as2 = ''.join(a2[::-1])\n",
    "\n",
    "# print the output to the console\n",
    "print()\n",
    "print('Global Alignment without Affine gap with score = {}:'.format(score))\n",
    "print(as0)\n",
    "print(as2)\n",
    "print(as1)"
   ]
  },
  {
   "cell_type": "markdown",
   "metadata": {},
   "source": [
    "#### Testing against biopython "
   ]
  },
  {
   "cell_type": "code",
   "execution_count": 6,
   "metadata": {},
   "outputs": [
    {
     "name": "stdout",
     "output_type": "stream",
     "text": [
      "Below Alignment has a score:-3.0\n",
      "AGCGAGGC\n",
      "|--.||||\n",
      "A--CAGGC\n",
      "\n",
      "Below Alignment has a score:-3.0\n",
      "AGCGAGGC\n",
      "|.--||||\n",
      "AC--AGGC\n",
      "\n"
     ]
    }
   ],
   "source": [
    "# Sequence alignment with affine gap\n",
    "aligner_affine = Align.PairwiseAligner()\n",
    "\n",
    "aligner_affine.match_score = 1.0\n",
    "aligner_affine.mismatch_score = -2.0\n",
    "aligner_affine.open_gap_score = -5\n",
    "aligner_affine.extend_gap_score = -1\n",
    "alignments = aligner_affine.align(seq[0], seq[1])\n",
    "for al in alignments:\n",
    "    print('Below Alignment has a score:{}'.format(al.score))\n",
    "    print(al)"
   ]
  }
 ],
 "metadata": {
  "kernelspec": {
   "display_name": "Python 3",
   "language": "python",
   "name": "python3"
  },
  "language_info": {
   "codemirror_mode": {
    "name": "ipython",
    "version": 3
   },
   "file_extension": ".py",
   "mimetype": "text/x-python",
   "name": "python",
   "nbconvert_exporter": "python",
   "pygments_lexer": "ipython3",
   "version": "3.8.8"
  }
 },
 "nbformat": 4,
 "nbformat_minor": 4
}
